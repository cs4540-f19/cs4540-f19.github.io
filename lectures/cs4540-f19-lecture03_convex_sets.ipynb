{
 "cells": [
  {
   "cell_type": "code",
   "execution_count": 27,
   "metadata": {
    "collapsed": true,
    "jupyter": {
     "outputs_hidden": true
    }
   },
   "outputs": [],
   "source": [
    "%matplotlib inline\n",
    "import numpy as np;\n",
    "from matplotlib import pyplot as plt"
   ]
  },
  {
   "cell_type": "markdown",
   "metadata": {},
   "source": [
    "$\\LaTeX \\text{ commands here}\n",
    "\\newcommand{\\R}{\\mathbb{R}}\n",
    "\\newcommand{\\im}{\\text{im}\\,}\n",
    "\\newcommand{\\norm}[1]{||#1||}\n",
    "\\newcommand{\\inner}[1]{\\langle #1 \\rangle}\n",
    "\\newcommand{\\span}{\\mathrm{span}}\n",
    "\\newcommand{\\proj}{\\mathrm{proj}}\n",
    "$"
   ]
  },
  {
   "cell_type": "markdown",
   "metadata": {
    "nbpresent": {
     "id": "0d550dc6-b222-4f90-8a5a-8fc373b860e9"
    },
    "slideshow": {
     "slide_type": "slide"
    }
   },
   "source": [
    "<hr style=\"border: 5px solid black\">\n",
    "\n",
    "**Georgia Tech, CS 4540**\n",
    "\n",
    "# L3:  Convex Sets, Cones, and Hyperplanes\n",
    "\n",
    "Jacob Abernethy\n",
    "\n",
    "*Tuesday, August 27, 2019*"
   ]
  },
  {
   "cell_type": "markdown",
   "metadata": {
    "slideshow": {
     "slide_type": "slide"
    }
   },
   "source": [
    "### First thing: a quiz!\n",
    "\n",
    "Please log into canvas."
   ]
  },
  {
   "cell_type": "markdown",
   "metadata": {
    "slideshow": {
     "slide_type": "slide"
    }
   },
   "source": [
    "### Boyd Vandenbergh Book\n",
    "\n",
    "<img src=\"http://web.stanford.edu/~boyd/cvxbook/bv_cvxbook_cover.jpg\" width=20%>\n",
    "\n",
    "Can found Boyd's excellent [Convex Optimization lectures online](http://web.stanford.edu/class/ee364a/videos.html)"
   ]
  },
  {
   "cell_type": "markdown",
   "metadata": {
    "slideshow": {
     "slide_type": "slide"
    }
   },
   "source": [
    "### Def:  Linear Combinations and Span\n",
    "\n",
    "A **linear combination** of the vectors $x_1, \\dots, x_n \\in \\R^m$ with coefficients $\\alpha_1, \\dots, \\alpha_n \\in \\R$ is\n",
    "    $$\n",
    "    \\alpha_1 x_1 + \\cdots + \\alpha_n x _n \\in \\R^m\n",
    "    $$\n",
    "The **span** of a set $S \\subset \\R^m$ of vectors is the subspace containing all (finite) linear combinations of elements from $S$,\n",
    "    $$\n",
    "    \\mathrm{span}(S) = \\left\\{ \\sum_{k=1}^n \\alpha_k x_k \\;\\Bigg\\vert\\; x_k, \\dots, x_n \\in S, \\alpha_k \\in \\R, n \\in \\mathbb{N} \\right\\} \\subset \\R^m\n",
    "    $$"
   ]
  },
  {
   "cell_type": "markdown",
   "metadata": {
    "slideshow": {
     "slide_type": "slide"
    }
   },
   "source": [
    "### Def:  Independence\n",
    "\n",
    "Vectors $x_1, \\dots, x_n \\in \\R^m$ are  **linearly dependent** if one of the vectors can be written as a (nontrivial) linear combination of the others, that is, there exist coefficients $\\alpha_1, \\dots, \\alpha_n \\in \\R$ not all zero, such that\n",
    "$$\n",
    "\\alpha_1 x_1 + \\cdots + \\alpha_n x_n = 0\n",
    "$$\n",
    "Otherwise, the vectors are **linearly independent**."
   ]
  },
  {
   "cell_type": "markdown",
   "metadata": {
    "slideshow": {
     "slide_type": "slide"
    }
   },
   "source": [
    "## Affine Independence\n",
    "\n",
    "**Def1**: Vectors $x_0, \\dots, x_n \\in \\R^m$ are  **affinely independent** if the vectors $x_1 - x_0, x_2 - x_0, \\ldots, x_n - x_0$ are linearly independent.\n",
    "\n",
    "---\n",
    "\n",
    "**Def2**: *Alternative Definition*: Vectors $x_0, \\dots, x_n \\in \\R^m$ are  **affinely independent** if the equation\n",
    "$$\n",
    "    \\alpha_0 x_0 + \\alpha_1 x_1 + \\ldots \\alpha_n x_n = 0 \\quad  \\text{ for some } \\alpha_0, \\ldots, \\alpha_n \\in \\R \\quad\n",
    "$$\n",
    "$\\text{ where } \\quad \\sum_{i=0}^n \\alpha_i = 0$, \n",
    "is only satisfied for $\\alpha_0 = \\alpha_1 = \\cdots = \\alpha_n = 0$.\n",
    "\n",
    "---\n",
    "#### Problem\n",
    "These are the same definition!"
   ]
  },
  {
   "cell_type": "markdown",
   "metadata": {
    "slideshow": {
     "slide_type": "skip"
    }
   },
   "source": [
    "#### Answer\n",
    "\n",
    "We'll prove the converse, for both directions.\n",
    "\n",
    "First, consider the second definition. Assume that a set of points $x_0, x_1, \\ldots, x_n$ are affinely *dependent*. That is,  $\\alpha_0 x_0 + \\alpha_1 x_1 + \\ldots \\alpha_n x_n = 0$ for some $\\alpha_0, \\ldots, \\alpha_n \\in \\R$ and $\\alpha_0 + \\ldots + \\alpha_n = 0$. Notice that the last equality implies that $\\alpha_0 = -(\\alpha_1 + \\cdots + \\alpha_n)$ so we can write instead that\n",
    "$$-(\\alpha_1 + \\cdots + \\alpha_n)x_0 + \\alpha_1 x_1 + \\ldots \\alpha_n x_n = 0.$$\n",
    "Rearranging, this means that\n",
    "$$\\alpha_1 (x_1 - x_0) + \\ldots \\alpha_n (x_n - x_0) = 0.$$ This means that, the vectors $x_1 - x_0, x_2 - x_0, \\ldots, x_n - x_0$ are linearly *dependent*. This is the negation of the first definition.\n",
    "\n",
    "Now assume we have a set of vectors which fail to satisfy the first definition. That is, we have a set of points $x_0, x_1, \\ldots, x_n$ such that $x_1 - x_0, x_2 - x_0, \\ldots, x_n - x_0$ are linearly *dependent*. Then there are $\\lambda_1, \\ldots, \\lambda_n \\in \\R$, which are not all 0, so that $\\lambda_1 (x_1 - x_0 + \\ldots + \\lambda_n (x_n - x_0) = 0$. Now set $\\alpha_0 = -(\\lambda_1 + \\ldots + \\lambda_n)$ and set $\\alpha_i = \\lambda_i$ for $i=1,\\ldots,n$. It is easy to see that\n",
    "$$\n",
    "0 = \\lambda_1 (x_1 - x_0 + \\ldots + \\lambda_n (x_n - x_0) = \\alpha_0 x_0 + \\alpha_1 x_1 + \\cdots + \\alpha_n x_n,\n",
    "$$\n",
    "and $\\alpha_0 + \\cdots + \\alpha_n = 0$. Hence we have shown that the vectors $x_0, \\ldots, x_n$ are affinely dependent according to the second definition. \n"
   ]
  },
  {
   "cell_type": "markdown",
   "metadata": {
    "slideshow": {
     "slide_type": "slide"
    }
   },
   "source": [
    "## General definition of convexity\n",
    "\n",
    "Recall the following definition: A set $C$ is convex if for all $x,y \\in C$ and all $\\theta \\in [0,1]$ we have $\\theta x + (1-\\theta) y \\in C$\n",
    "\n",
    "Let $C \\subset \\R^m$ be a convex set. Let $x_1, \\ldots, x_n \\in C$, and $\\theta_1, \\ldots, \\theta_n \\in \\R_{\\geq 0}$ with $\\theta_1 + \\ldots + \\theta_n = 1$. \n",
    "\n",
    "#### Problem\n",
    "Show that $\\theta_1 x_1 + \\cdots + \\theta_n x_n \\in C$.\n",
    "\n",
    "*Hint*: This is true for $n=2$ by definition. How to prove for $n > 2$?"
   ]
  },
  {
   "cell_type": "markdown",
   "metadata": {
    "slideshow": {
     "slide_type": "skip"
    }
   },
   "source": [
    "#### Answer\n",
    "\n",
    "We can induct on $n$. First, for the base case $n=2$, the answer is trivially true by the standard definition of convexity. That is, by definition $C$ is convex if $\\forall x,y\\in C$ and all $\\theta_1, \\theta_2 \\in [0,1]$, with $\\theta_2 = 1-\\theta_1$, we have $\\theta_1 x + \\theta_2 y \\in C$.\n",
    "\n",
    "Now, take $n > 2$. Let $x_1, \\ldots, x_n \\in C$ be arbitrary, and let $\\theta_1, \\ldots, \\theta_n \\geq 0$ with $\\theta_1 + \\cdots + \\theta_n = 1$. If any of the $\\theta_i$'s is 0, then we are done by induction (because we can simply drop this $\\theta_i x_i$ pair from the sum and we have reduced to the $n-1$ case). Otherwise, let\n",
    "$$\n",
    "\\bar \\theta := \\theta_1 + \\cdots \\theta_{n-1} \\;\\; \\text{ and } \\;\\; \\bar x = \\frac{1}{\\bar \\theta}(\\theta_1 x_1 + \\cdots + \\theta_{n-1} x_{n-1}).\n",
    "$$\n",
    "By induction, $\\bar x$ is an element of $C$! Why? Because it's a convex combination of $n-1$ points from $C$. (note: it is important that we normalized by $\\bar \\theta$ to ensure that the new weights sum to 1!) Also notice that\n",
    "$$ \\theta_1 x_1 + \\cdots + \\theta_n x_n = (1-\\theta_n) \\bar x + \\theta_n x_n $$\n",
    "which is a convex combination of two points in $C$. Hence, $\\theta_1 x_1 + \\cdots + \\theta_n x_n \\in C$ as desired."
   ]
  },
  {
   "cell_type": "markdown",
   "metadata": {
    "slideshow": {
     "slide_type": "slide"
    }
   },
   "source": [
    "## Convex hulls\n",
    "\n"
   ]
  },
  {
   "cell_type": "markdown",
   "metadata": {},
   "source": [
    "*Def*: The convex hull of a set $S$, $\\text{conv}(S)$, is the set $\\{ \\sum_i \\theta_i x_i : \\sum_{i} \\theta_i = 1, \\theta_i \\geq 0, x_i \\in S \\forall i\\}$. In other words, the set of all convex combinations of points in $S$!"
   ]
  },
  {
   "cell_type": "markdown",
   "metadata": {},
   "source": [
    "#### Problem\n",
    "Prove that the convex hull of a set $S$ is equal to the intersection of all convex sets that contain $S$."
   ]
  },
  {
   "cell_type": "markdown",
   "metadata": {
    "slideshow": {
     "slide_type": "skip"
    }
   },
   "source": [
    "#### Answer\n",
    "\n",
    "Let $U := \\bigcap \\{K : K \\text{ is convex and } S \\subset K \\}$, the intersection of all convex sets that contain $S$. We will show that $x \\in U \\implies x \\in \\text{conv}(S)$ and also that $x in \\text{conv}(S) \\implies x \\in U$. Let us start with the first direction.\n",
    "\n",
    "If $x \\in U$, then $x \\in K$ for all convex $K$ that contain $S$. But one such $K$ that is convex and contains $S$ is $\\text{conv}(S)$! This means that $x \\in \\text{conv}(S)$, as desired.\n",
    "\n",
    "If $x \\in \\text{conv}(S)$, then we know we can write $x = \\sum_i \\theta_i x_i$ for a finite set of $x_i$'s, with $x_i \\in \\S$ for all $i$, and weights $\\theta_i$ such that $\\sum_i \\theta_i = 1$. Now consider any convex $K$ that contains $S$. Notice that $x_i \\in K$ for all $i$, and hence by the convexity of $K$ it must be that $\\sum_i \\theta_i x_i \\in K$. Hence $x \\in K$ for all convex $K$ containing $S$, and hence $x \\in \\bigcap \\{K : K \\text{ is convex and } S \\subset K \\} = U$ so we are done."
   ]
  },
  {
   "cell_type": "markdown",
   "metadata": {
    "slideshow": {
     "slide_type": "slide"
    }
   },
   "source": [
    "## Separating Hyperplanes\n",
    "\n",
    "The set of separating hyperplanes. Suppose that $C$ and $D$ are disjoint subsets of $\\R^n$.\n",
    "Consider the set of $(a, b) \\in \\R^{n+1}$ for which\n",
    "$$a^\\top x \\leq b \\text{ for all } x  \\in C$$\n",
    "and\n",
    "$$a^\\top x \\geq b \\text{ for all } x \\in D.$$\n",
    "\n",
    "#### Problem\n",
    "Show that this set is a convex cone (which is the singleton $\\{0\\}$ if there is no hyperplane that separates $C$ and $D$)"
   ]
  },
  {
   "cell_type": "markdown",
   "metadata": {},
   "source": [
    "#### Problem\n",
    "Show that this set is a convex cone (which is the singleton $\\{0\\}$ if there is no hyperplane that separates $C$ and $D$)\n",
    "\n",
    "#### Answer\n",
    "\n",
    "Let $y_1 = (a_1, b_1), y_2 = (a_2, b_2)$. We want to show that a conic combination of $y_1, y_2$, or $\\theta_1 y_1 + \\theta_2 y_2, \\theta_1, \\theta_2 \\geq 0$ is a separating hyperplane of $C$ and $D$. \n",
    "\n",
    "$$\\theta_1 y_1 + \\theta_2 y_2 = (\\theta_1 a_1 + \\theta_2 a_2, \\theta_1 b_1 + \\theta_2 b_2)$$\n",
    "\n",
    "It holds that for $x \\in C$:\n",
    "\n",
    "$$(\\theta_1 a_1 + \\theta_2 a_2)^T x = \\theta_1 a_1^T x + \\theta_2 a_2^T x \\leq \\theta_1 b_1 + \\theta_2 b_2$$ \n",
    "\n",
    "And if also follows that it satisfies for $x \\in D$. Thus, the set of $(a,b) \\in R^{n+1}$ is a convex cone"
   ]
  }
 ],
 "metadata": {
  "celltoolbar": "Slideshow",
  "kernelspec": {
   "display_name": "Python 2",
   "language": "python",
   "name": "python2"
  },
  "language_info": {
   "codemirror_mode": {
    "name": "ipython",
    "version": 2
   },
   "file_extension": ".py",
   "mimetype": "text/x-python",
   "name": "python",
   "nbconvert_exporter": "python",
   "pygments_lexer": "ipython2",
   "version": "2.7.16"
  },
  "nbpresent": {
   "slides": {
    "00402695-e04c-4eef-89e0-d40218a4b0e7": {
     "id": "00402695-e04c-4eef-89e0-d40218a4b0e7",
     "prev": null,
     "regions": {
      "4448a694-c5c3-40bb-ab2b-ed9b29a5b571": {
       "attrs": {
        "height": 0.8,
        "width": 0.8,
        "x": 0.1,
        "y": 0.1
       },
       "id": "4448a694-c5c3-40bb-ab2b-ed9b29a5b571"
      }
     }
    },
    "0265b550-c6b6-425a-9c52-f618822afef0": {
     "id": "0265b550-c6b6-425a-9c52-f618822afef0",
     "prev": "49ba58b9-fb36-4447-9811-c3ada1b777b6",
     "regions": {
      "b702ead7-d493-4d02-8d0f-23b216601150": {
       "attrs": {
        "height": 0.8,
        "width": 0.8,
        "x": 0.1,
        "y": 0.1
       },
       "content": {
        "cell": "a69ec655-4bfe-4a3f-9d26-9965eceb71df",
        "part": "whole"
       },
       "id": "b702ead7-d493-4d02-8d0f-23b216601150"
      }
     }
    },
    "1b9e5fe3-4efd-46d2-9af0-7648e295e4a2": {
     "id": "1b9e5fe3-4efd-46d2-9af0-7648e295e4a2",
     "prev": "885499a5-0dfb-4789-9555-6a95c5a3376e",
     "regions": {
      "556348bf-3f97-4a5d-952c-5ab545ee4992": {
       "attrs": {
        "height": 0.8,
        "width": 0.8,
        "x": 0.1,
        "y": 0.1
       },
       "content": {
        "cell": "ece64073-7cf1-4495-bfe4-337f1fa42390",
        "part": "whole"
       },
       "id": "556348bf-3f97-4a5d-952c-5ab545ee4992"
      }
     }
    },
    "2039394f-772d-4c00-b81e-83f05bc1dcd1": {
     "id": "2039394f-772d-4c00-b81e-83f05bc1dcd1",
     "prev": "94eabf87-a6d9-4ac8-a24e-dad8e0e4d8d8",
     "regions": {
      "63b012e8-1ac7-4c4e-b281-a80d944c12ae": {
       "attrs": {
        "height": 0.8,
        "width": 0.8,
        "x": 0.1,
        "y": 0.1
       },
       "content": {
        "cell": "29b540e4-7d19-4df6-b685-72c772a842d0",
        "part": "whole"
       },
       "id": "63b012e8-1ac7-4c4e-b281-a80d944c12ae"
      }
     }
    },
    "2db8174a-eab5-4a44-aa68-a816d759bda9": {
     "id": "2db8174a-eab5-4a44-aa68-a816d759bda9",
     "prev": "1b9e5fe3-4efd-46d2-9af0-7648e295e4a2",
     "regions": {
      "7539e7ab-53f5-417b-af25-a99f24b36e72": {
       "attrs": {
        "height": 0.8,
        "width": 0.8,
        "x": 0.1,
        "y": 0.1
       },
       "content": {
        "cell": "526a6929-1493-4efb-9580-8d532f1b1733",
        "part": "whole"
       },
       "id": "7539e7ab-53f5-417b-af25-a99f24b36e72"
      }
     }
    },
    "4329cc6d-7f9f-4b70-a761-2cb9d911ca0f": {
     "id": "4329cc6d-7f9f-4b70-a761-2cb9d911ca0f",
     "prev": "9b2467ee-a4a5-42ab-9028-de6057970611",
     "regions": {
      "4dc09d43-f722-4d98-99a1-5752221a2d67": {
       "attrs": {
        "height": 0.8,
        "width": 0.8,
        "x": 0.1,
        "y": 0.1
       },
       "content": {
        "cell": "ac1f6d59-30ec-4e45-ba35-254bfe82de2a",
        "part": "whole"
       },
       "id": "4dc09d43-f722-4d98-99a1-5752221a2d67"
      }
     }
    },
    "49ba58b9-fb36-4447-9811-c3ada1b777b6": {
     "id": "49ba58b9-fb36-4447-9811-c3ada1b777b6",
     "prev": "00402695-e04c-4eef-89e0-d40218a4b0e7",
     "regions": {
      "9fd470e1-9457-4fad-a69a-135027c528ae": {
       "attrs": {
        "height": 0.8,
        "width": 0.8,
        "x": 0.1,
        "y": 0.1
       },
       "content": {
        "cell": "0d550dc6-b222-4f90-8a5a-8fc373b860e9",
        "part": "whole"
       },
       "id": "9fd470e1-9457-4fad-a69a-135027c528ae"
      }
     }
    },
    "4f2e1449-4308-4724-b6b5-f1ce1967f8bb": {
     "id": "4f2e1449-4308-4724-b6b5-f1ce1967f8bb",
     "prev": "f0551436-2b74-43fd-b272-c48323a83773",
     "regions": {
      "a6956997-1dbe-417c-b982-aa9974af36a2": {
       "attrs": {
        "height": 0.8,
        "width": 0.8,
        "x": 0.1,
        "y": 0.1
       },
       "content": {
        "cell": "4da46af5-389b-422f-8723-2240bcb5e5cc",
        "part": "whole"
       },
       "id": "a6956997-1dbe-417c-b982-aa9974af36a2"
      }
     }
    },
    "6a9b86a5-72d4-4ea9-8160-3d55bae4c738": {
     "id": "6a9b86a5-72d4-4ea9-8160-3d55bae4c738",
     "prev": "4f2e1449-4308-4724-b6b5-f1ce1967f8bb",
     "regions": {
      "7a3484dc-5988-456c-b189-15cb1f18af1f": {
       "attrs": {
        "height": 0.8,
        "width": 0.8,
        "x": 0.1,
        "y": 0.1
       },
       "content": {
        "cell": "951424a9-7339-4487-bff2-66c64595ea34",
        "part": "whole"
       },
       "id": "7a3484dc-5988-456c-b189-15cb1f18af1f"
      }
     }
    },
    "788ca0e1-453f-4688-b082-ffde7b78e68c": {
     "id": "788ca0e1-453f-4688-b082-ffde7b78e68c",
     "prev": "2db8174a-eab5-4a44-aa68-a816d759bda9",
     "regions": {
      "fe4f47cd-4e72-4e30-970a-19547b803205": {
       "attrs": {
        "height": 0.8,
        "width": 0.8,
        "x": 0.1,
        "y": 0.1
       },
       "content": {
        "cell": "d70290b6-b579-4460-9035-1657b31857a4",
        "part": "whole"
       },
       "id": "fe4f47cd-4e72-4e30-970a-19547b803205"
      }
     }
    },
    "7a911c00-893a-4bdd-b842-fce896a21aae": {
     "id": "7a911c00-893a-4bdd-b842-fce896a21aae",
     "prev": "2039394f-772d-4c00-b81e-83f05bc1dcd1",
     "regions": {
      "2de9a398-fea4-4723-a8b6-55c33ce96eb1": {
       "attrs": {
        "height": 0.8,
        "width": 0.8,
        "x": 0.1,
        "y": 0.1
       },
       "content": {
        "cell": "b0a25cbc-b5fe-4080-bd6f-951ddfd7381f",
        "part": "whole"
       },
       "id": "2de9a398-fea4-4723-a8b6-55c33ce96eb1"
      }
     }
    },
    "829ba554-db30-4ece-af12-5488f4729294": {
     "id": "829ba554-db30-4ece-af12-5488f4729294",
     "prev": "7a911c00-893a-4bdd-b842-fce896a21aae",
     "regions": {
      "443f7e08-6b5f-4714-aed2-b8e910728910": {
       "attrs": {
        "height": 0.8,
        "width": 0.8,
        "x": 0.1,
        "y": 0.1
       },
       "content": {
        "cell": "56362fbe-c101-494a-bd32-3e1649e15643",
        "part": "whole"
       },
       "id": "443f7e08-6b5f-4714-aed2-b8e910728910"
      }
     }
    },
    "885499a5-0dfb-4789-9555-6a95c5a3376e": {
     "id": "885499a5-0dfb-4789-9555-6a95c5a3376e",
     "prev": "f3732cc4-6051-4998-a02c-0e5541a15f23",
     "regions": {
      "8b4717b8-bdd2-465b-96ad-407eacdbe34b": {
       "attrs": {
        "height": 0.8,
        "width": 0.8,
        "x": 0.1,
        "y": 0.1
       },
       "content": {
        "cell": "6f147f30-1ba3-4e9f-9653-e13a4257df6c",
        "part": "whole"
       },
       "id": "8b4717b8-bdd2-465b-96ad-407eacdbe34b"
      }
     }
    },
    "94eabf87-a6d9-4ac8-a24e-dad8e0e4d8d8": {
     "id": "94eabf87-a6d9-4ac8-a24e-dad8e0e4d8d8",
     "prev": "4329cc6d-7f9f-4b70-a761-2cb9d911ca0f",
     "regions": {
      "82549bbb-345d-423f-8229-7b5cd0628b14": {
       "attrs": {
        "height": 0.8,
        "width": 0.8,
        "x": 0.1,
        "y": 0.1
       },
       "content": {
        "cell": "8018269b-60c2-4a26-abe2-77c73cace5f6",
        "part": "whole"
       },
       "id": "82549bbb-345d-423f-8229-7b5cd0628b14"
      }
     }
    },
    "9b2467ee-a4a5-42ab-9028-de6057970611": {
     "id": "9b2467ee-a4a5-42ab-9028-de6057970611",
     "prev": "788ca0e1-453f-4688-b082-ffde7b78e68c",
     "regions": {
      "33ad7a50-cf56-40b7-b53b-552605f88fa5": {
       "attrs": {
        "height": 0.8,
        "width": 0.8,
        "x": 0.1,
        "y": 0.1
       },
       "content": {
        "cell": "6c33627a-8a43-4349-bf5e-9097b0e286f7",
        "part": "whole"
       },
       "id": "33ad7a50-cf56-40b7-b53b-552605f88fa5"
      }
     }
    },
    "ba0bf0ed-6cee-4c8c-bc7e-222a0f8e820d": {
     "id": "ba0bf0ed-6cee-4c8c-bc7e-222a0f8e820d",
     "prev": "829ba554-db30-4ece-af12-5488f4729294",
     "regions": {
      "7eb01692-dcb5-4ded-bd25-7e0d90f3fffc": {
       "attrs": {
        "height": 0.8,
        "width": 0.8,
        "x": 0.1,
        "y": 0.1
       },
       "content": {
        "cell": "6c53c225-83fe-4d41-8dca-0d1c9368584c",
        "part": "whole"
       },
       "id": "7eb01692-dcb5-4ded-bd25-7e0d90f3fffc"
      }
     }
    },
    "df3d62d2-e2b9-4ff7-978b-08c51a4f9ee8": {
     "id": "df3d62d2-e2b9-4ff7-978b-08c51a4f9ee8",
     "prev": "ba0bf0ed-6cee-4c8c-bc7e-222a0f8e820d",
     "regions": {
      "75cf714e-431e-4287-914d-b79312bcbfce": {
       "attrs": {
        "height": 0.8,
        "width": 0.8,
        "x": 0.1,
        "y": 0.1
       },
       "content": {
        "cell": "561a5ffb-7003-4ec0-a6bc-c3fd39204a40",
        "part": "whole"
       },
       "id": "75cf714e-431e-4287-914d-b79312bcbfce"
      }
     }
    },
    "f0551436-2b74-43fd-b272-c48323a83773": {
     "id": "f0551436-2b74-43fd-b272-c48323a83773",
     "prev": "0265b550-c6b6-425a-9c52-f618822afef0",
     "regions": {
      "9d1114ff-54fc-40c5-a3f1-4d094ab427d6": {
       "attrs": {
        "height": 0.8,
        "width": 0.8,
        "x": 0.1,
        "y": 0.1
       },
       "content": {
        "cell": "f14dd754-9e43-4014-8a09-be62ba0c3aed",
        "part": "whole"
       },
       "id": "9d1114ff-54fc-40c5-a3f1-4d094ab427d6"
      }
     }
    },
    "f3732cc4-6051-4998-a02c-0e5541a15f23": {
     "id": "f3732cc4-6051-4998-a02c-0e5541a15f23",
     "prev": "6a9b86a5-72d4-4ea9-8160-3d55bae4c738",
     "regions": {
      "dce19474-7bba-475a-a368-63f262661282": {
       "attrs": {
        "height": 0.8,
        "width": 0.8,
        "x": 0.1,
        "y": 0.1
       },
       "content": {
        "cell": "2b797236-c6a7-4860-b27b-ca4d8f381607",
        "part": "whole"
       },
       "id": "dce19474-7bba-475a-a368-63f262661282"
      }
     }
    }
   },
   "themes": {
    "default": "474559d9-b375-479a-ac75-71c3289ec9ff",
    "theme": {
     "474559d9-b375-479a-ac75-71c3289ec9ff": {
      "id": "474559d9-b375-479a-ac75-71c3289ec9ff",
      "palette": {
       "19cc588f-0593-49c9-9f4b-e4d7cc113b1c": {
        "id": "19cc588f-0593-49c9-9f4b-e4d7cc113b1c",
        "rgb": [
         252,
         252,
         252
        ]
       },
       "31af15d2-7e15-44c5-ab5e-e04b16a89eff": {
        "id": "31af15d2-7e15-44c5-ab5e-e04b16a89eff",
        "rgb": [
         68,
         68,
         68
        ]
       },
       "50f92c45-a630-455b-aec3-788680ec7410": {
        "id": "50f92c45-a630-455b-aec3-788680ec7410",
        "rgb": [
         155,
         177,
         192
        ]
       },
       "c5cc3653-2ee1-402a-aba2-7caae1da4f6c": {
        "id": "c5cc3653-2ee1-402a-aba2-7caae1da4f6c",
        "rgb": [
         43,
         126,
         184
        ]
       },
       "efa7f048-9acb-414c-8b04-a26811511a21": {
        "id": "efa7f048-9acb-414c-8b04-a26811511a21",
        "rgb": [
         25.118061674008803,
         73.60176211453744,
         107.4819383259912
        ]
       }
      },
      "rules": {
       "blockquote": {
        "color": "50f92c45-a630-455b-aec3-788680ec7410"
       },
       "code": {
        "font-family": "Anonymous Pro"
       },
       "h1": {
        "color": "c5cc3653-2ee1-402a-aba2-7caae1da4f6c",
        "font-family": "Lato",
        "font-size": 8
       },
       "h2": {
        "color": "c5cc3653-2ee1-402a-aba2-7caae1da4f6c",
        "font-family": "Lato",
        "font-size": 6
       },
       "h3": {
        "color": "50f92c45-a630-455b-aec3-788680ec7410",
        "font-family": "Lato",
        "font-size": 5.5
       },
       "h4": {
        "color": "c5cc3653-2ee1-402a-aba2-7caae1da4f6c",
        "font-family": "Lato",
        "font-size": 5
       },
       "h5": {
        "font-family": "Lato"
       },
       "h6": {
        "font-family": "Lato"
       },
       "h7": {
        "font-family": "Lato"
       },
       "pre": {
        "font-family": "Anonymous Pro",
        "font-size": 4
       }
      },
      "text-base": {
       "font-family": "Merriweather",
       "font-size": 4
      }
     }
    }
   }
  }
 },
 "nbformat": 4,
 "nbformat_minor": 4
}
