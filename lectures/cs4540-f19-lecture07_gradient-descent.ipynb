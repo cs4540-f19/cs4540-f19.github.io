{
 "cells": [
  {
   "cell_type": "code",
   "execution_count": 1,
   "metadata": {
    "slideshow": {
     "slide_type": "skip"
    }
   },
   "outputs": [],
   "source": [
    "%matplotlib inline\n",
    "import numpy as np;\n",
    "import matplotlib\n",
    "import matplotlib.pyplot as plt\n",
    "\n",
    "np.random.seed(1337)\n",
    "\n",
    "kwargs = {'linewidth' : 3.5}\n",
    "font = {'weight' : 'normal', 'size'   : 24}\n",
    "matplotlib.rc('font', **font)\n",
    "\n",
    "def error_plot(ys, yscale='log'):\n",
    "    plt.figure(figsize=(8, 8))\n",
    "    plt.xlabel('Step')\n",
    "    plt.ylabel('Error')\n",
    "    plt.yscale(yscale)\n",
    "    plt.plot(range(len(ys)), ys, **kwargs)"
   ]
  },
  {
   "cell_type": "markdown",
   "metadata": {},
   "source": [
    "$\\LaTeX \\text{ commands here}\n",
    "\\newcommand{\\R}{\\mathbb{R}}\n",
    "\\newcommand{\\im}{\\text{im}\\,}\n",
    "\\newcommand{\\norm}[1]{||#1||}\n",
    "\\newcommand{\\inner}[1]{\\langle #1 \\rangle}\n",
    "\\newcommand{\\span}{\\mathrm{span}}\n",
    "\\newcommand{\\proj}{\\mathrm{proj}}\n",
    "\\newcommand{\\OPT}{\\mathrm{OPT}}\n",
    "\\newcommand{\\grad}{\\nabla}\n",
    "\\newcommand{\\eps}{\\varepsilon}\n",
    "$"
   ]
  },
  {
   "cell_type": "markdown",
   "metadata": {
    "slideshow": {
     "slide_type": "slide"
    }
   },
   "source": [
    "<hr style=\"border: 5px solid black\">\n",
    "\n",
    "**Georgia Tech, CS 4540**\n",
    "\n",
    "# L7: Gradient Descent Algorithm\n",
    "\n",
    "Jake Abernethy, Benjamin Bray, Naveen Kodali\n",
    "\n",
    "Quiz password: descent\n",
    "\n",
    "*Tuesday, September 10, 2019*"
   ]
  },
  {
   "cell_type": "markdown",
   "metadata": {},
   "source": [
    "### No class on Thursday Sept 12!"
   ]
  },
  {
   "cell_type": "markdown",
   "metadata": {
    "slideshow": {
     "slide_type": "slide"
    }
   },
   "source": [
    "# Danger!\n",
    "\n",
    "> **Warning:**  In this lecture, we will abuse notation and pretend that $\\nabla f(x)$ is a column vector.  Always remember that it's *actually* a row vector, and we're just pretending!!!"
   ]
  },
  {
   "cell_type": "markdown",
   "metadata": {
    "slideshow": {
     "slide_type": "slide"
    }
   },
   "source": [
    "### Gradient Descent\n",
    "\n",
    "For $f : \\R^d \\rightarrow \\R$ is differentiable, **gradient descent** performs the following iteration:  follows the direction of steepest descent from a starting point $x_0 \\in \\R^d$:\n",
    "\n",
    "<div style=\"padding:20px;margin:20px;border:1px solid black\">\n",
    "<b>Gradient Descent</b>\n",
    "$$\n",
    "\\begin{align}\n",
    "x_{t+1} = x_t - \\eta_t \\grad f(x_t)\n",
    "\\end{align}\n",
    "$$\n",
    "</div>\n",
    "\n",
    "* Initial iterate $x_0 \\in \\R^d$\n",
    "* $-\\grad f(x_t)$ is the direction of steepest descent from $x_t$\n",
    "* $\\eta > 0$ is called the *step size*"
   ]
  },
  {
   "cell_type": "markdown",
   "metadata": {
    "slideshow": {
     "slide_type": "slide"
    }
   },
   "source": [
    "### Problem:  Lipschitz Continuity\n",
    "\n",
    "A function $f : \\Omega \\rightarrow \\R$ is **$L$-Lipschitz continuous** on its domain $\\Omega \\subset \\R^d$ provided that\n",
    "\n",
    "$$\n",
    "| f(x) - f(y) | \\leq L \\norm{x - y}_2 \\quad \\forall\\, x,y \\in \\Omega\n",
    "$$\n",
    "\n",
    "\n",
    "<div style=\"padding:20px;margin:20px;border:1px solid black\">\n",
    "<b>Part A:</b>  Give an example of a function that is not Lipschitz on $\\R^d$ but is Lipschitz on a subset.\n",
    "\n",
    "<b>Part B:</b>  Prove that a Lipschitz continuous function is continuous, that is, for all $x_0 \\in \\R^d$ and $\\eps > 0$ there exists $\\delta > 0$ such that for all $x \\in \\R^d$, $$\\norm{x-x_0} < \\delta \\implies |f(x)-f(x_0)| < \\eps$$\n",
    "\n",
    "<b>Part C:</b> **(Save for Homework)** Prove that if $f$ is differentiable, convex, and $L$-Lipschitz, then $\\norm{\\grad f(x)}_2 \\leq L$.\n",
    "\n",
    "\n",
    "</div>"
   ]
  },
  {
   "cell_type": "markdown",
   "metadata": {
    "slideshow": {
     "slide_type": "slide"
    }
   },
   "source": [
    "### Def:  Smooth / Strongly Convex\n",
    "\n",
    "Recall that a function is convex if it is lower bounded by its linear approximation at every point. But a function is *strongly convex* if it is also lower bounded by a *quadratic* approximation as well. More precisely, we say $f(x)$ is $\\alpha$-strongly convex if the following holds for every $x, x_0 \\in \\text{dom}(f)$:\n",
    "$$ f(x) \\geq f(x_0) + \\nabla_{x_0} f \\cdot (x - x_0) + \\frac \\alpha 2 \\| x - x_0 \\|^2 $$\n",
    "Similarly, a convex function is called $\\beta$-smooth if the inequality goes the other way!\n",
    "$$ f(x) \\leq f(x_0) + \\nabla_{x_0} f \\cdot (x - x_0) + \\frac \\beta 2 \\| x - x_0 \\|^2 $$\n",
    "\n",
    "+ **Equivalently** a twice-differentiable $f(x)$ is $\\alpha$-strongly convex iff $\\nabla^2_x f \\succcurlyeq \\alpha I$\n",
    "+ **and** a twice-differentiable $f(x)$ is $\\beta$-smooth iff $\\nabla^2_x f \\preccurlyeq \\beta I$\n"
   ]
  },
  {
   "cell_type": "markdown",
   "metadata": {
    "slideshow": {
     "slide_type": "slide"
    }
   },
   "source": [
    "### Problem:  Quadratic Forms\n",
    "\n",
    "<div style=\"padding:20px;margin:20px;border:1px solid black\">\n",
    "Let $A \\in \\R^{d \\times d}$ be symmetric and positive-definite and define $f(x) = \\frac{1}{2} x^T A x$.  \n",
    "\n",
    "* Is $f$ smooth?  If so, with what smoothness constant?\n",
    "* Is $f$ strongly convex?  If so, with what constant?\n",
    "</div>"
   ]
  },
  {
   "cell_type": "markdown",
   "metadata": {
    "slideshow": {
     "slide_type": "subslide"
    }
   },
   "source": [
    "#### Answer: Quadratic Forms\n",
    "\n",
    "$f(x) = \\frac{1}{2} x^T A x => \\nabla^2 f(x)=A$\n",
    "\n",
    "* $f$ is $\\lambda_{max}$-smooth. A function is $\\beta$-smooth if $\\nabla^2 f\\preccurlyeq\\beta I$, which means $A$'s eigenvalues are less than or equal to $\\beta$. $\\beta=\\lambda_{max}$ satisfies this.\n",
    "* $f$ is $\\lambda_{min}$-strongly convex. A function is $\\alpha$-strongly convex if $\\nabla^2 f\\succcurlyeq\\alpha I$, which means $A$'s eigenvalues are greater than or equal to $\\alpha$. $\\alpha=\\lambda_{min}$ satisfies this.\n"
   ]
  },
  {
   "cell_type": "markdown",
   "metadata": {
    "slideshow": {
     "slide_type": "slide"
    }
   },
   "source": [
    "## Three key facts about gradient descent from reading\n",
    "\n",
    "Let $x^*$ be the minimizer of $f$, and let $\\|x_0 - x^*\\| \\leq R$.\n",
    "\n",
    "1. If $f$ is convex and $L$-lipschitz, and we set $\\eta = \\frac{R}{L\\sqrt t}$ then\n",
    "$$f\\left(\\frac{1}{t}\\sum_{i=0}^{t}x_i\\right) - f(x^*) \\leq \\frac{R L}{\\sqrt{t}}$$\n",
    "1. If $f$ is convex, $\\beta$-smooth, and we set $\\eta = 1/\\beta$, then \n",
    "$$f\\left(x_t \\right) - f(x^*) \\leq \\frac{LR^2}{t}$$\n",
    "1. If $f$ is $\\beta$-smooth and $\\mu$-strongly convex, and set set $\\eta = 1/L$, then \n",
    "$$\\|x_t - x^*\\| \\leq R \\left(1 - \\frac{\\mu}{\\beta}\\right)^t $$"
   ]
  },
  {
   "cell_type": "markdown",
   "metadata": {
    "slideshow": {
     "slide_type": "slide"
    }
   },
   "source": [
    "### Gradient Descent for Lipschitz Continuous Functions\n",
    "\n",
    "Our goal for today is to prove the following:\n",
    "\n",
    "<div style=\"padding:20px;margin:20px;border:1px solid black\">\n",
    "<b>Theorem:</b> If $f : \\R^d \\rightarrow \\R$ is convex, differentiable and L-Lipschitz on all of $\\R^d$ and $||x_0 - x^*|| \\leq R$, then there is a step size $\\eta > 0$ such that the iterates of gradient descent satisfy\n",
    "$$\n",
    "f\\left(\\frac{1}{t}\\sum_{i=1}^{t}x_i\\right) - f(x^*) \\leq \\frac{R L}{\\sqrt{t}}\n",
    "$$\n",
    "</div>"
   ]
  },
  {
   "cell_type": "markdown",
   "metadata": {
    "slideshow": {
     "slide_type": "slide"
    }
   },
   "source": [
    "### Step 1: Problem\n",
    "\n",
    "Show that \n",
    "$$f(x_t) - f(x^*) \\leq \\frac{1}{2\\eta} \\left(||x_t - x^*||^2 - ||x_{t+1} - x^*||^2\\right) + \\frac{\\eta L^2}{2}$$\n",
    "\n",
    "> *Hint:*  First, show that $u^T v = \\frac{1}{2} (||u||^2 + ||v||^2 - ||u - v||^2)$ for any $u, v \\in \\R^d$"
   ]
  },
  {
   "cell_type": "markdown",
   "metadata": {
    "slideshow": {
     "slide_type": "subslide"
    }
   },
   "source": [
    "#### Answer\n",
    "\n",
    "First, notice that $f(x_t) - f(x^*) \\leq \\nabla f(x_t)\\cdot(x_t - x^*)$ since $f$ is convex.\n",
    "\n",
    "Next, notice that \n",
    "\\begin{eqnarray*}\n",
    "\\|x_{t+1} − x^*\\|^2  & = & \\| x_t − \\eta \\nabla f(x_t) − x^∗\\|^2\\\\\n",
    "& = & \\|x_t − x^∗\\|^2 − 2 \\eta \\nabla f(x_t) \\cdot (x_t − x^∗) + \\eta^2 \\|\\nabla f(x_t)\\|^2 \\\\\n",
    "& \\leq & \\|x_t − x^∗\\|^2 − 2\\eta \\nabla f(x_t) \\cdot (x_t − x^∗) + \\eta^2 L^2\n",
    "\\end{eqnarray*}\n",
    "\n",
    "Rearranging, dividing by $2\\eta$, and combining with the previous statement, we have\n",
    "$$\n",
    "f(x_t) - f(x^*) \\leq \\nabla f(x_t)\\cdot(x_t - x^*) \\leq \\frac{1}{2\\eta}(\\|x_{t} − x^*\\|^2 - \\|x_{t+1} − x^∗\\|^2) + \\eta L^2/2\n",
    "$$"
   ]
  },
  {
   "cell_type": "markdown",
   "metadata": {
    "slideshow": {
     "slide_type": "slide"
    }
   },
   "source": [
    "### Step 2: Problem\n",
    "\n",
    "Using the previous step, prove for any $\\eta > 0$ that\n",
    "\n",
    "$$f\\left(\\frac{1}{t}\\sum_{i=0}^{t}x_i\\right) - f(x^*) \\leq \\frac{R^2}{2\\eta t} + \\frac{\\eta L^2 t}{2}$$\n",
    "\n",
    "> *Hint:* Sum over iterates and identify a telescoping sum.  Then, use Jensen's inequality (i.e. the definition of convexity).\n"
   ]
  },
  {
   "cell_type": "markdown",
   "metadata": {
    "slideshow": {
     "slide_type": "subslide"
    }
   },
   "source": [
    "#### Answer\n",
    "\n",
    "\\begin{eqnarray*}\n",
    "f\\left(\\frac{1}{t}\\sum_{i=0}^{t}x_i\\right) - f(x^*)  & \\leq & \\frac{1}{t}\\sum_{i=0}^{t} f\\left(x_i\\right) - f(x^*) \\\\\n",
    "& = &\\frac{1}{t}\\sum_{i=0}^{t} (f\\left(x_i\\right) - f(x^*)) \\\\\n",
    "& \\leq & \\frac{1}{t}\\sum_{i=0}^{t} \\left(\\frac{1}{2\\eta}(\\|x_{t} − x^*\\|^2 - \\|x_{t+1} − x^∗\\|^2) + \\eta L^2/2 \\right) \\\\\n",
    "& \\leq & \\frac{\\|x_{t} − x^*\\|^2}{2t\\eta} + \\eta L^2 / 2\n",
    "\\end{eqnarray*}\n"
   ]
  },
  {
   "cell_type": "markdown",
   "metadata": {
    "slideshow": {
     "slide_type": "slide"
    }
   },
   "source": [
    "### Step 3: Problem\n",
    "\n",
    "Now we have\n",
    "\n",
    "$$f\\left(\\frac{1}{t}\\sum_{i=0}^{t}x_i\\right) - f(x^*) \\leq \\frac{R^2}{2\\eta t} + \\frac{\\eta L^2 t}{2}$$\n",
    "\n",
    "\n",
    "\n",
    "**Show** Since this holds for all $\\eta > 0$, we should pick the step size that gives the best bound.  Which $\\eta$ should we choose?  What bound does it give?"
   ]
  },
  {
   "cell_type": "markdown",
   "metadata": {
    "slideshow": {
     "slide_type": "fragment"
    }
   },
   "source": [
    "(Solution:  $\\eta = \\frac{R}{L \\sqrt{t}}$)"
   ]
  },
  {
   "cell_type": "markdown",
   "metadata": {
    "slideshow": {
     "slide_type": "slide"
    }
   },
   "source": [
    "### Conclusion:  Lipschitz Case\n",
    "\n",
    "Using $\\eta = \\frac{R}{L \\sqrt{t}}$, we obtain the following bound:\n",
    "\n",
    "$$\n",
    "f\\left(\\frac{1}{t}\\sum_{i=0}^{t}x_i\\right) - f(x^*) \\leq \\frac{R L}{\\sqrt{t}}\n",
    "$$\n",
    "\n",
    "* Lipschitz continuity is a fairly weak assumption\n",
    "* By imposing stronger conditions, we can get better convergence rates"
   ]
  },
  {
   "cell_type": "markdown",
   "metadata": {
    "slideshow": {
     "slide_type": "slide"
    }
   },
   "source": [
    "### Remark:  Projected Gradient Descent\n",
    "\n",
    "Suppose we want to minimize $f : \\Omega \\rightarrow \\R$ within some convex set $\\Omega \\subset \\R^d$ instead of the entire space $\\R^d$.  We can still apply gradient descent as long as we **project** back onto the convex domain $\\Omega$ after each iteration. Let $\\Pi_\\Omega(x) = \\min_{z \\in \\Omega} \\norm{z-x}_2^2$ be the projection of $x$ onto the convex set $\\Omega$.\n",
    "\n",
    "\n",
    "<div style=\"padding:20px;margin:20px;border:1px solid black\">\n",
    "<b>Projected Gradient Descent</b>\n",
    "$$\n",
    "\\begin{align}\n",
    "y_{t+1} &= x_t - \\eta_t \\grad f(x_t) \\\\\n",
    "x_{t+1} &= \\Pi_\\Omega(y_{t+1})\n",
    "\\end{align}\n",
    "$$\n",
    "</div>\n",
    "\n",
    "#### Problem\n",
    "Show that Projected Gradient Descent achieves the same convergence rate by making a minor adjusment to the proof. (*Hint:* you may want to use a fact from your homework!)"
   ]
  },
  {
   "cell_type": "markdown",
   "metadata": {
    "slideshow": {
     "slide_type": "slide"
    }
   },
   "source": [
    "# Implementation\n",
    "\n",
    "> Adapted from [Moritz Hardt's lecture notebook](https://ee227c.github.io/code/lecture4.html)"
   ]
  },
  {
   "cell_type": "markdown",
   "metadata": {
    "slideshow": {
     "slide_type": "slide"
    }
   },
   "source": [
    "\n",
    "## Projected Gradient Descent\n",
    "\n",
    "We start with a basic implementation of projected gradient descent.  Note that this implementation keeps around all points computed along the way. This is clearly not what you would do on large instances. We do this for illustrative purposes to be able to easily inspect the computed sequence of points."
   ]
  },
  {
   "cell_type": "code",
   "execution_count": 2,
   "metadata": {},
   "outputs": [],
   "source": [
    "def gradient_descent(init, steps, grad, proj=lambda x: x):\n",
    "    \"\"\"Projected gradient descent.\n",
    "    \n",
    "    Inputs:\n",
    "        initial: starting point\n",
    "        steps: list of scalar step sizes\n",
    "        grad: function mapping points to gradients\n",
    "        proj (optional): function mapping points to points\n",
    "        \n",
    "    Returns:\n",
    "        List of all points computed by projected gradient descent.\n",
    "    \"\"\"\n",
    "    xs = [init]\n",
    "    for step in steps:\n",
    "        x_step = xs[-1]\n",
    "        # Fill this in:\n",
    "        x_update = None\n",
    "        xs.append(x_update)\n",
    "    return xs"
   ]
  },
  {
   "cell_type": "markdown",
   "metadata": {},
   "source": [
    "## Warm-Up:  Optimizing a Quadratic\n",
    "\n",
    "As a toy example, let's optimize $f(x) = \\frac{1}{2} \\norm{x}^2$, which has gradient $\\nabla f(x) = x$."
   ]
  },
  {
   "cell_type": "code",
   "execution_count": 5,
   "metadata": {
    "collapsed": true,
    "jupyter": {
     "outputs_hidden": true
    }
   },
   "outputs": [],
   "source": [
    "def quadratic(x):\n",
    "    return 0.5*x.dot(x)\n",
    "\n",
    "\n",
    "# What is the gradient of this function?\n",
    "def quadratic_gradient(x):\n",
    "    # FILL THIS IN\n",
    "    return None\n"
   ]
  },
  {
   "cell_type": "markdown",
   "metadata": {},
   "source": [
    "Note the function is  1-smooth and  1-strongly convex. Our theorems would then suggest that we use a constant step size of  1.  If you think about it, for this step size the algorithm will actually find the optimal solution in just one step."
   ]
  },
  {
   "cell_type": "code",
   "execution_count": 7,
   "metadata": {},
   "outputs": [],
   "source": [
    "x0 = np.random.normal(0, 1, (1000))\n",
    "_, x1 = gradient_descent(x0, [1.0], quadratic_gradient)"
   ]
  },
  {
   "cell_type": "markdown",
   "metadata": {},
   "source": [
    "Indeed, it does:"
   ]
  },
  {
   "cell_type": "code",
   "execution_count": 8,
   "metadata": {},
   "outputs": [
    {
     "data": {
      "text/plain": [
       "True"
      ]
     },
     "execution_count": 8,
     "metadata": {},
     "output_type": "execute_result"
    }
   ],
   "source": [
    "x1.all() == 0"
   ]
  },
  {
   "cell_type": "markdown",
   "metadata": {},
   "source": [
    "Let's see what happens if we don't have the right learning rate."
   ]
  },
  {
   "cell_type": "code",
   "execution_count": 9,
   "metadata": {},
   "outputs": [
    {
     "data": {
      "image/png": "[encoded data removed]",
      "text/plain": [
       "<Figure size 576x576 with 1 Axes>"
      ]
     },
     "metadata": {},
     "output_type": "display_data"
    }
   ],
   "source": [
    "xs = gradient_descent(x0, [0.1]*50, quadratic_gradient)\n",
    "error_plot([quadratic(x) for x in xs])"
   ]
  },
  {
   "cell_type": "markdown",
   "metadata": {},
   "source": [
    "### Constrained Optimization\n",
    "\n",
    "Let's say we want to optimize the function inside some affine subspace. Recall that affine subspaces are convex sets. Below we pick a random low dimensional affine subspace  b+U  and define the corresponding linear projection operator."
   ]
  },
  {
   "cell_type": "code",
   "execution_count": null,
   "metadata": {},
   "outputs": [],
   "source": [
    "# U is an orthonormal basis of a random 100-dimensional subspace.\n",
    "U = np.linalg.qr(np.random.normal(0, 1, (1000, 100)))[0]\n",
    "b = np.random.normal(0, 1, 1000)\n",
    "\n",
    "def proj(x):\n",
    "    \"\"\"Projection of x onto an affine subspace\"\"\"\n",
    "    return None\n",
    "# What is this???"
   ]
  },
  {
   "cell_type": "code",
   "execution_count": 11,
   "metadata": {},
   "outputs": [
    {
     "data": {
      "text/plain": [
       "<matplotlib.legend.Legend at 0x7f6b05b94198>"
      ]
     },
     "execution_count": 11,
     "metadata": {},
     "output_type": "execute_result"
    },
    {
     "data": {
      "image/png": "[encoded data removed]",
      "text/plain": [
       "<Figure size 576x576 with 1 Axes>"
      ]
     },
     "metadata": {},
     "output_type": "display_data"
    }
   ],
   "source": [
    "x0 = np.random.normal(0, 1, (1000))\n",
    "xs = gradient_descent(x0, [0.1]*50, quadratic_gradient, proj)\n",
    "# the optimal solution is the projection of the origin\n",
    "x_opt = proj(0)\n",
    "error_plot([quadratic(x) for x in xs])\n",
    "plt.plot(range(len(xs)), [quadratic(x_opt)]*len(xs),\n",
    "        label='$\\\\frac{1}{2}|\\!|x_{\\mathrm{opt}}|\\!|^2$')\n",
    "plt.legend()"
   ]
  },
  {
   "cell_type": "markdown",
   "metadata": {},
   "source": [
    "The orangle line shows the optimal error, which the algorithm reaches quickly. The iterates also converge to the optimal solution in domain as the following plot shows."
   ]
  },
  {
   "cell_type": "code",
   "execution_count": 12,
   "metadata": {},
   "outputs": [
    {
     "data": {
      "image/png": "[encoded data removed]",
      "text/plain": [
       "<Figure size 576x576 with 1 Axes>"
      ]
     },
     "metadata": {},
     "output_type": "display_data"
    }
   ],
   "source": [
    "error_plot([np.linalg.norm(x_opt-x)**2 for x in xs])"
   ]
  }
 ],
 "metadata": {
  "celltoolbar": "Slideshow",
  "kernelspec": {
   "display_name": "Python 3",
   "language": "python",
   "name": "python3"
  },
  "language_info": {
   "codemirror_mode": {
    "name": "ipython",
    "version": 3
   },
   "file_extension": ".py",
   "mimetype": "text/x-python",
   "name": "python",
   "nbconvert_exporter": "python",
   "pygments_lexer": "ipython3",
   "version": "3.7.3"
  }
 },
 "nbformat": 4,
 "nbformat_minor": 4
}
