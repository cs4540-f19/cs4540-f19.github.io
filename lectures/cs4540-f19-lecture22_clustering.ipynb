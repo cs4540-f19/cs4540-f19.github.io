{
 "cells": [
  {
   "cell_type": "markdown",
   "metadata": {},
   "source": [
    "$\\LaTeX \\text{ commands here}\n",
    "\\newcommand{\\R}{\\mathbb{R}}\n",
    "\\newcommand{\\im}{\\text{im}\\,}\n",
    "\\newcommand{\\norm}[1]{||#1||}\n",
    "\\newcommand{\\inner}[1]{\\langle #1 \\rangle}\n",
    "\\newcommand{\\span}{\\mathrm{span}}\n",
    "\\newcommand{\\proj}{\\mathrm{proj}}\n",
    "\\newcommand{\\OPT}{\\mathrm{OPT}}\n",
    "\\newcommand{\\vx}{\\vec{x}}\n",
    "\\newcommand{\\I}{\\mathbb{I}}\n",
    "$"
   ]
  },
  {
   "cell_type": "markdown",
   "metadata": {
    "slideshow": {
     "slide_type": "slide"
    }
   },
   "source": [
    "\n",
    "<hr style=\"border: 5px solid black\">\n",
    "\n",
    "**Georgia Tech, CS 4540**\n",
    "\n",
    "# Lecture 22: Clustering\n",
    "\n",
    "Naveen Kodali and Jacob Abernethy\n",
    "\n",
    "*Date:  Thursday, November 14, 2019*"
   ]
  },
  {
   "cell_type": "markdown",
   "metadata": {
    "slideshow": {
     "slide_type": "slide"
    }
   },
   "source": [
    "## K-Means Clustering "
   ]
  },
  {
   "cell_type": "markdown",
   "metadata": {
    "slideshow": {
     "slide_type": "slide"
    }
   },
   "source": [
    "### K-Means Clustering: The standard view\n",
    "\n",
    "The **K-Means** algorithm takes a simple, non-probabilistic approach.\n",
    "- First, pick random cluster centers $\\mu_k$.\n",
    "\n",
    "Then, repeat until convergence:\n",
    "\n",
    "<div style=\"margin:10px; padding: 10px; border: 2px solid black\">\n",
    "    \n",
    "**E-Step:** Assign $x_j$ to the nearest cluster center $\\mu_k$,\n",
    "$$\n",
    "z_j = \\arg\\min_k || x_j - \\mu_k ||^2\n",
    "$$\n",
    "\n",
    "**M-Step:** Re-estimate cluster centers by averaging over assignments:\n",
    "$$\n",
    "\\mu_k = \\frac{1}{ \\# \\{ j \\mid z_j =k \\}} \\sum_{j=1}^N x_j \\mathbb{I}(z_j = k)\n",
    "$$\n",
    "</div>"
   ]
  },
  {
   "cell_type": "markdown",
   "metadata": {
    "slideshow": {
     "slide_type": "slide"
    }
   },
   "source": [
    "### K-Means Clustering: Initialization\n",
    "\n",
    "> Images taken from Bishop, **[PRML]**\n",
    "\n",
    "<img src=\"images/kmeans-1.png\">"
   ]
  },
  {
   "cell_type": "markdown",
   "metadata": {
    "slideshow": {
     "slide_type": "slide"
    }
   },
   "source": [
    "### K-Means Clustering: E-Step\n",
    "\n",
    "<img src=\"images/kmeans-2.png\">"
   ]
  },
  {
   "cell_type": "markdown",
   "metadata": {
    "slideshow": {
     "slide_type": "slide"
    }
   },
   "source": [
    "### K-Means Clustering: M-Step\n",
    "\n",
    "<img src=\"images/kmeans-3.png\">"
   ]
  },
  {
   "cell_type": "markdown",
   "metadata": {
    "slideshow": {
     "slide_type": "slide"
    }
   },
   "source": [
    "### K-Means Clustering: E-Step\n",
    "\n",
    "<img src=\"images/kmeans-4.png\">"
   ]
  },
  {
   "cell_type": "markdown",
   "metadata": {
    "slideshow": {
     "slide_type": "slide"
    }
   },
   "source": [
    "### K-Means Clustering: M-Step\n",
    "\n",
    "<img src=\"images/kmeans-5.png\">"
   ]
  },
  {
   "cell_type": "markdown",
   "metadata": {
    "slideshow": {
     "slide_type": "slide"
    }
   },
   "source": [
    "### K-Means Clustering: E-Step\n",
    "\n",
    "<img src=\"images/kmeans-6.png\">"
   ]
  },
  {
   "cell_type": "markdown",
   "metadata": {
    "slideshow": {
     "slide_type": "slide"
    }
   },
   "source": [
    "### K-Means Clustering: M-Step\n",
    "\n",
    "<img src=\"images/kmeans-7.png\">"
   ]
  },
  {
   "cell_type": "markdown",
   "metadata": {
    "slideshow": {
     "slide_type": "slide"
    }
   },
   "source": [
    "### K-Means Clustering: E-Step\n",
    "\n",
    "<img src=\"images/kmeans-8.png\">"
   ]
  },
  {
   "cell_type": "markdown",
   "metadata": {
    "slideshow": {
     "slide_type": "slide"
    }
   },
   "source": [
    "### K-Means Clustering: M-Step\n",
    "\n",
    "<img src=\"images/kmeans-9.png\">"
   ]
  },
  {
   "cell_type": "markdown",
   "metadata": {
    "slideshow": {
     "slide_type": "slide"
    }
   },
   "source": [
    "### K-Means Clustering:  The \"Optimization\" View\n",
    "\n",
    "*Exercise:* Show that the K-Means algorithm finds a local minimum of the **distortion measure**, given by\n",
    "$$\n",
    "J(\\mu_1, \\ldots, \\mu_k; z_1, \\ldots, z_N) = \\sum_{j=1}^N \\sum_{k=1}^K \\mathbb{I}(z_j=k) || x_j - \\mu_k ||^2\n",
    "$$"
   ]
  },
  {
   "cell_type": "markdown",
   "metadata": {
    "slideshow": {
     "slide_type": "slide"
    }
   },
   "source": [
    "## Exercise: Convince yourself that K-Means = Alternating Minimization\n",
    "\n",
    "<div style=\"margin:10px; padding: 10px; border: 2px solid black\">\n",
    "    \n",
    "**E-Step:**\n",
    "$$\n",
    "(z_1, \\ldots, z_N) = \\arg\\min_{(z_1', \\ldots, z_N')} J(\\mu_1, \\ldots, \\mu_K; z_1', \\ldots, z_N')\n",
    "$$\n",
    "\n",
    "**M-Step:**\n",
    "$$\n",
    "(\\mu_1, \\ldots, \\mu_K) = \\arg\\min_{(\\mu_1', \\ldots, \\mu_K')} J(\\mu_1', \\ldots, \\mu_K'; z_1, \\ldots, z_N)\n",
    "$$\n",
    "\n",
    "</div>\n",
    "\n",
    "where\n",
    "$$\n",
    "J(\\mu_1, \\ldots, \\mu_k; z_1, \\ldots, z_N) = \\sum_{j=1}^N \\sum_{k=1}^K \\mathbb{I}(z_j=k) || x_j - \\mu_k ||^2\n",
    "$$\n"
   ]
  },
  {
   "cell_type": "markdown",
   "metadata": {
    "slideshow": {
     "slide_type": "slide"
    }
   },
   "source": [
    "## Clustering Graphs\n",
    "\n",
    "What if we have a weighted graph $G = (V,E)$, with some weights $w_{ij} \\; \\forall (i,j) \\in E$, and we want to cluster it into two groups $A, B \\subset V$, where $A \\cap B = \\emptyset$ and $A \\cup B = V$.\n",
    "\n",
    "We can define $\\text{cut}(A,B) := \\sum_{(i,j) \\in E, i\\in A, j \\in B} w_{ij}$.\n",
    "\n",
    "**Problem**: We could try to find $A,B$ to minimize the cut value. Why might this be a bad idea?"
   ]
  },
  {
   "cell_type": "markdown",
   "metadata": {
    "slideshow": {
     "slide_type": "slide"
    }
   },
   "source": [
    "## Better graph cutting\n",
    "\n",
    "<img src=\"images/graphcut.png\" width=30%/>\n",
    "\n",
    "Define $|A| := \\sum_{i \\in A} \\text{degree}(i)$.\n",
    "\n",
    "The *Normalized Cut* of $A,B$ is\n",
    "$$\\text{Ncut}(A,B) := \\text{cut}(A,B)\\left(\\frac 1 {|A|} + \\frac 1 {|B|}\\right)$$\n",
    "\n",
    "New objective: want to find $A,B$ to minimize the $\\text{Ncut}$! Problem: NP-hard to solve!"
   ]
  },
  {
   "cell_type": "markdown",
   "metadata": {
    "slideshow": {
     "slide_type": "slide"
    }
   },
   "source": [
    "## Graph Laplacian\n",
    "\n",
    "<img src=\"images/graphlaplacian.jpeg\" width=50%>\n",
    "\n",
    "#### Problem\n",
    "\n",
    "Let $L$ be the graph laplacian for some graph $G$. Show that for any vector $f \\in \\mathbb{R}^{|V|}$ we have $f^\\top L f = \\sum_{(i,j) \\in E} w_{ij} (f_i - f_j)^2$\n"
   ]
  },
  {
   "cell_type": "markdown",
   "metadata": {
    "slideshow": {
     "slide_type": "slide"
    }
   },
   "source": [
    "## Graph Laplacian\n",
    "\n",
    "<img src=\"images/graphlaplacian.jpeg\" width=50%>\n",
    "\n",
    "#### Problem\n",
    "\n",
    "Let $L$ be the graph laplacian for some graph $G$.\n",
    "1. Show that the eigenvalues of $L$ are all non-negative. \n",
    "2. How do we know that $L$ has a zero eigenvalue?\n",
    "3. (Hard) What is the multiplicity of the 0 eigenvalue? What are corresponding eigenvectors?\n"
   ]
  },
  {
   "cell_type": "markdown",
   "metadata": {
    "slideshow": {
     "slide_type": "slide"
    }
   },
   "source": [
    "## Cutting the graph via laplacian\n",
    "\n",
    "Recall:\n",
    "$$\\text{Ncut}(A,B) := \\text{cut}(A,B)\\left(\\frac 1 {|A|} + \\frac 1 {|B|}\\right)$$\n",
    "\n",
    "#### Problem\n",
    "\n",
    "Say we want to minimize $\\text{Ncut}$. How can we formulate this in terms of a discrete vector optimization using the graph laplacian?"
   ]
  },
  {
   "cell_type": "markdown",
   "metadata": {
    "slideshow": {
     "slide_type": "slide"
    }
   },
   "source": [
    "## Spectral clustering\n",
    "\n",
    "In spectral clustering, we can *relax* this formulation as follows:\n",
    "$$ \\min_{ f \\in \\mathbb{R}^n } f^\\top L f \\quad \\quad \\text{ s.t. } f^\\top \\mathbb{1} = 0 \\text{ and } \\| f \\| = \\sqrt{n} $$\n",
    "\n",
    "The solution of this problem is a vector $f$ with positive and negative entries. We threshold this vector at 0 to assign coordinates to $A$ and $B$.\n",
    "\n",
    "#### Problem\n",
    "\n",
    "Show that this can be reduced to find a certain eigenvector of $L$. Which eigenvector is it?\n"
   ]
  },
  {
   "cell_type": "markdown",
   "metadata": {
    "slideshow": {
     "slide_type": "slide"
    }
   },
   "source": [
    "## Spectral clustering in practice\n",
    "\n",
    "<img src=\"images/spectral_vs_kmeans.png\">"
   ]
  },
  {
   "cell_type": "markdown",
   "metadata": {
    "slideshow": {
     "slide_type": "slide"
    }
   },
   "source": [
    "## Let us try to implement K-means ourselves\n",
    "\n",
    "First we'll load some data"
   ]
  },
  {
   "cell_type": "code",
   "execution_count": 1,
   "metadata": {
    "slideshow": {
     "slide_type": "slide"
    }
   },
   "outputs": [
    {
     "name": "stdout",
     "output_type": "stream",
     "text": [
      "Input Data and Shape\n",
      "(3000, 2)\n"
     ]
    },
    {
     "data": {
      "text/html": [
       "<div>\n",
       "<style scoped>\n",
       "    .dataframe tbody tr th:only-of-type {\n",
       "        vertical-align: middle;\n",
       "    }\n",
       "\n",
       "    .dataframe tbody tr th {\n",
       "        vertical-align: top;\n",
       "    }\n",
       "\n",
       "    .dataframe thead th {\n",
       "        text-align: right;\n",
       "    }\n",
       "</style>\n",
       "<table border=\"1\" class=\"dataframe\">\n",
       "  <thead>\n",
       "    <tr style=\"text-align: right;\">\n",
       "      <th></th>\n",
       "      <th>V1</th>\n",
       "      <th>V2</th>\n",
       "    </tr>\n",
       "  </thead>\n",
       "  <tbody>\n",
       "    <tr>\n",
       "      <th>0</th>\n",
       "      <td>2.072345</td>\n",
       "      <td>-3.241693</td>\n",
       "    </tr>\n",
       "    <tr>\n",
       "      <th>1</th>\n",
       "      <td>17.936710</td>\n",
       "      <td>15.784810</td>\n",
       "    </tr>\n",
       "    <tr>\n",
       "      <th>2</th>\n",
       "      <td>1.083576</td>\n",
       "      <td>7.319176</td>\n",
       "    </tr>\n",
       "    <tr>\n",
       "      <th>3</th>\n",
       "      <td>11.120670</td>\n",
       "      <td>14.406780</td>\n",
       "    </tr>\n",
       "    <tr>\n",
       "      <th>4</th>\n",
       "      <td>23.711550</td>\n",
       "      <td>2.557729</td>\n",
       "    </tr>\n",
       "  </tbody>\n",
       "</table>\n",
       "</div>"
      ],
      "text/plain": [
       "          V1         V2\n",
       "0   2.072345  -3.241693\n",
       "1  17.936710  15.784810\n",
       "2   1.083576   7.319176\n",
       "3  11.120670  14.406780\n",
       "4  23.711550   2.557729"
      ]
     },
     "execution_count": 1,
     "metadata": {},
     "output_type": "execute_result"
    }
   ],
   "source": [
    "# Setting up ---- dont worry about this part\n",
    "from copy import deepcopy\n",
    "import numpy as np\n",
    "import pandas as pd\n",
    "from matplotlib import pyplot as plt\n",
    "plt.rcParams['figure.figsize'] = (16, 9)\n",
    "plt.style.use('ggplot')\n",
    "\n",
    "# Importing the dataset  \n",
    "data = pd.read_csv('xclara.csv')\n",
    "print(\"Input Data and Shape\")\n",
    "print(data.shape)\n",
    "data.head()"
   ]
  },
  {
   "cell_type": "markdown",
   "metadata": {},
   "source": [
    "## What does this data look like?"
   ]
  },
  {
   "cell_type": "code",
   "execution_count": 2,
   "metadata": {},
   "outputs": [
    {
     "data": {
      "text/plain": [
       "<matplotlib.collections.PathCollection at 0x7f11fd5c53c8>"
      ]
     },
     "execution_count": 2,
     "metadata": {},
     "output_type": "execute_result"
    },
    {
     "data": {
      "image/png": "[encoded data removed]",
      "text/plain": [
       "<Figure size 432x288 with 1 Axes>"
      ]
     },
     "metadata": {},
     "output_type": "display_data"
    }
   ],
   "source": [
    "# Getting the values and plotting it ----- dont worry about this part\n",
    "f1 = data['V1'].values\n",
    "f2 = data['V2'].values\n",
    "X = np.array(list(zip(f1, f2)))\n",
    "plt.scatter(f1, f2, c='black', s=7)"
   ]
  },
  {
   "cell_type": "markdown",
   "metadata": {},
   "source": [
    "## First task: initialize the centroids\n",
    "\n",
    "Pick some random points for the initial three centroids `C = [C[0,:], C[1,:], C[2,:]]`"
   ]
  },
  {
   "cell_type": "code",
   "execution_count": null,
   "metadata": {},
   "outputs": [],
   "source": [
    "# Euclidean Distance Caculator\n",
    "def dist(a, b, ax=1):\n",
    "    return np.linalg.norm(a - b, axis=ax)\n",
    "\n",
    "# Number of clusters\n",
    "k = 3\n",
    "# Set X coordinates of random centroids and Y coordinates of random centroids\n",
    "### TODO A: Implement this part to randomly initialize centroids ###\n",
    "C_x = None\n",
    "C_y = None\n",
    "C = np.array(list(zip(C_x, C_y)), dtype=np.float32)\n",
    "print(\"Initial Centroids\")\n",
    "print(C)\n",
    "\n",
    "# Plotting along with the Centroids\n",
    "plt.scatter(f1, f2, c='#050505', s=7)\n",
    "plt.scatter(C_x, C_y, marker='*', s=200, c='g')"
   ]
  },
  {
   "cell_type": "markdown",
   "metadata": {},
   "source": [
    "## Now implement the K-Means algorithm\n",
    "\n",
    "You need to do two steps:\n",
    "- (a) First implement the cluster assignments\n",
    "- (b) "
   ]
  },
  {
   "cell_type": "code",
   "execution_count": null,
   "metadata": {},
   "outputs": [],
   "source": [
    "# To store the value of centroids when it updates\n",
    "C_old = np.zeros(C.shape)\n",
    "# Cluster Lables(0, 1, 2)\n",
    "clusters = np.zeros(len(X))\n",
    "# Error func. - Distance between new centroids and old centroids\n",
    "error = dist(C, C_old, None)\n",
    "# Loop will run till the error becomes zero\n",
    "while error != 0:\n",
    "    # Assigning each value to its closest cluster\n",
    "    for i in range(len(X)):\n",
    "        ### TODO B: Implement the clustering step or M-step ###\n",
    "        clusters[i] = # this variable should be the rows of X for cluster i\n",
    "    # Storing the old centroid values\n",
    "    C_old = deepcopy(C)\n",
    "    # Finding the new centroids by taking the average value\n",
    "    for i in range(k):\n",
    "        ### TODO C: Implement the centroid computation step or E-step ###\n",
    "    error = dist(C, C_old, None)\n",
    "\n",
    "colors = ['r', 'g', 'b', 'y', 'c', 'm']\n",
    "fig, ax = plt.subplots()\n",
    "for i in range(k):\n",
    "        points = np.array([X[j] for j in range(len(X)) if clusters[j] == i])\n",
    "        ax.scatter(points[:, 0], points[:, 1], s=7, c=colors[i])\n",
    "ax.scatter(C[:, 0], C[:, 1], marker='*', s=200, c='#050505')"
   ]
  },
  {
   "cell_type": "code",
   "execution_count": 6,
   "metadata": {},
   "outputs": [],
   "source": [
    "## Solutions (please try out by yourself first):\n",
    "\n",
    "#### TODO A:\n",
    "## C_x = np.random.randint(0, np.max(X)-20, size=k)\n",
    "## C_y = np.random.randint(0, np.max(X)-20, size=k)\n",
    "\n",
    "#### TODO B:\n",
    "## distances = dist(X[i], C)\n",
    "## cluster = np.argmin(distances)\n",
    "## clusters[i] = cluster\n",
    "\n",
    "#### TODO C:\n",
    "## points = [X[j] for j in range(len(X)) if clusters[j] == i]\n",
    "## C[i] = np.mean(points, axis=0)"
   ]
  },
  {
   "cell_type": "markdown",
   "metadata": {},
   "source": [
    "## CHALLENGE: Non-optimal K-means Solution\n",
    "\n",
    "Can you augment the dataset given, and find an initialization of the K-Means algorithm, such that the final solution is *not* the best one?\n",
    "\n",
    "It's not as easy as you think!\n"
   ]
  }
 ],
 "metadata": {
  "kernelspec": {
   "display_name": "Python 3",
   "language": "python",
   "name": "python3"
  },
  "language_info": {
   "codemirror_mode": {
    "name": "ipython",
    "version": 3
   },
   "file_extension": ".py",
   "mimetype": "text/x-python",
   "name": "python",
   "nbconvert_exporter": "python",
   "pygments_lexer": "ipython3",
   "version": "3.7.3"
  }
 },
 "nbformat": 4,
 "nbformat_minor": 4
}
