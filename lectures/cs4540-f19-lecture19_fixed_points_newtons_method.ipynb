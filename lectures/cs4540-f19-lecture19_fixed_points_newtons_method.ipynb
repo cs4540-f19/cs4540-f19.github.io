{
 "cells": [
  {
   "cell_type": "code",
   "execution_count": 2,
   "metadata": {
    "slideshow": {
     "slide_type": "slide"
    }
   },
   "outputs": [],
   "source": [
    "%matplotlib inline\n",
    "import numpy as np;\n",
    "import matplotlib\n",
    "import matplotlib.pyplot as plt\n",
    "\n",
    "# import demos\n",
    "from code.l12_newton import *;"
   ]
  },
  {
   "cell_type": "markdown",
   "metadata": {},
   "source": [
    "$\\LaTeX \\text{ commands here}\n",
    "\\newcommand{\\R}{\\mathbb{R}}\n",
    "\\newcommand{\\im}{\\text{im}\\,}\n",
    "\\newcommand{\\norm}[1]{||#1||}\n",
    "\\newcommand{\\inner}[1]{\\langle #1 \\rangle}\n",
    "\\newcommand{\\span}{\\mathrm{span}}\n",
    "\\newcommand{\\proj}{\\mathrm{proj}}\n",
    "\\newcommand{\\OPT}{\\mathrm{OPT}}\n",
    "\\newcommand{\\grad}{\\nabla}\n",
    "\\newcommand{\\eps}{\\varepsilon}\n",
    "$"
   ]
  },
  {
   "cell_type": "markdown",
   "metadata": {
    "slideshow": {
     "slide_type": "slide"
    }
   },
   "source": [
    "<hr style=\"border: 5px solid black\">\n",
    "\n",
    "**Georgia Tech, CS 4540**\n",
    "\n",
    "# L19: Fixed Points & Newton's Method\n",
    "\n",
    "*Tuesday, November 5, 2019*"
   ]
  },
  {
   "cell_type": "markdown",
   "metadata": {
    "slideshow": {
     "slide_type": "slide"
    }
   },
   "source": [
    "# Fixed Points"
   ]
  },
  {
   "cell_type": "markdown",
   "metadata": {
    "slideshow": {
     "slide_type": "slide"
    }
   },
   "source": [
    "### Problem:  Brouwer Teaser\n",
    "\n",
    "<div style=\"padding:10px;margin:10px;border:1px solid black\">\n",
    "<b>Problem:</b>  Show that every continuous function $f : [a,b] \\rightarrow [a,b]$ has a fixed point $c \\in [a,b]$ such that $f(c)=c$.\n",
    "</div>"
   ]
  },
  {
   "cell_type": "markdown",
   "metadata": {
    "slideshow": {
     "slide_type": "slide"
    }
   },
   "source": [
    "### Brouwer's Fixed Point Theorem\n",
    "\n",
    "Let $B_n := \\{ x \\in \\R^n : \\|x\\|_2 \\leq 1 \\}$ be the 2-norm ball in $n$ dimensions.\n",
    "\n",
    "**Theorem**: Let $f$ be any continuous function $f : B_n \\to B_n$. Then there exists a point $x \\in B_n$ such that $f(x) = x$."
   ]
  },
  {
   "cell_type": "markdown",
   "metadata": {
    "slideshow": {
     "slide_type": "slide"
    }
   },
   "source": [
    "## Sperner's Lemma\n",
    "\n",
    "Here's a neat fact from combinatorics:\n",
    "<img src=\"images/500px-Sperner2d.svg.png\" width=30%>\n",
    "\n",
    "\n",
    "Given a triangle ABC, and a triangulation T of the triangle, the set S of vertices of T is colored with three colors in such a way that\n",
    "\n",
    "A, B, and C are colored 1, 2, and 3 respectively\n",
    "Each vertex on an edge of ABC is to be colored only with one of the two colors of the ends of its edge. For example, each vertex on AC must have a color either 1 or 3.\n",
    "Then there exists a triangle from T, whose vertices are colored with the three different colors. More precisely, there must be an odd number of such triangles."
   ]
  },
  {
   "cell_type": "markdown",
   "metadata": {
    "slideshow": {
     "slide_type": "slide"
    }
   },
   "source": [
    "## Using Sperner to Prove Brower\n",
    "\n",
    "<img src=\"images/500px-Sperner2d.svg.png\" width=30%>\n",
    "\n",
    "*Simple Brower*: Let $f$ be any continuous function $f : \\Delta_3 \\to \\Delta_3$. Then there exists a point $x \\in \\Delta_3$ such that $f(x) = x$.\n",
    "\n",
    "**Problem:** How might you use Sperner's Lemma to prove this simplified version of Brower's Fixed Point Theorem?\n",
    "\n",
    "*Hint*: Triangulate $\\Delta_3$ in some arbitrary fashion. Label the corners of $\\Delta_3$ with Red Blue Green. Label the other nodes $p$ in the triangulation as follows: if $f_i(p)$ is smaller than $p_i$, then label it with the $i$th color of RBG.\n",
    "\n"
   ]
  },
  {
   "cell_type": "markdown",
   "metadata": {
    "slideshow": {
     "slide_type": "slide"
    }
   },
   "source": [
    "# Newton's Method"
   ]
  },
  {
   "cell_type": "markdown",
   "metadata": {
    "slideshow": {
     "slide_type": "slide"
    }
   },
   "source": [
    "### Recall:  Root-Finding"
   ]
  },
  {
   "cell_type": "markdown",
   "metadata": {
    "slideshow": {
     "slide_type": "slide"
    }
   },
   "source": [
    "### Recall:  Bisection Method\n",
    "\n",
    "<img src=\"images/bisection_method.png\">"
   ]
  },
  {
   "cell_type": "markdown",
   "metadata": {
    "slideshow": {
     "slide_type": "slide"
    }
   },
   "source": [
    "### Recall:  Bisection Method\n",
    "\n",
    "<img src=\"images/bisection_method_plot.png\">"
   ]
  },
  {
   "cell_type": "markdown",
   "metadata": {
    "slideshow": {
     "slide_type": "slide"
    }
   },
   "source": [
    "### Recall:  One-Dimensional Newton's Method\n",
    "\n",
    "Newton's method for finding zeros of differentiable $f: \\R \\rightarrow \\R$ is\n",
    "\n",
    "<div style=\"border:1px solid black; padding:20px; margin:20px\">\n",
    "$$\n",
    "\\begin{align}\n",
    "x_0 &= \\text{initial guess} \\\\\n",
    "x_{t+1} &= x_t - \\frac{f(x_t)}{f'(x_t)}\n",
    "\\end{align}\n",
    "$$\n",
    "</div>"
   ]
  },
  {
   "cell_type": "markdown",
   "metadata": {
    "slideshow": {
     "slide_type": "slide"
    }
   },
   "source": [
    "### Interpretation:  Newton's Method\n",
    "\n",
    "![](images/l11-newton-roots.png)"
   ]
  },
  {
   "cell_type": "markdown",
   "metadata": {
    "slideshow": {
     "slide_type": "slide"
    }
   },
   "source": [
    "### Demo:  Newton's Method"
   ]
  },
  {
   "cell_type": "code",
   "execution_count": 41,
   "metadata": {},
   "outputs": [
    {
     "data": {
      "text/html": [
       "<div>\n",
       "<style scoped>\n",
       "    .dataframe tbody tr th:only-of-type {\n",
       "        vertical-align: middle;\n",
       "    }\n",
       "\n",
       "    .dataframe tbody tr th {\n",
       "        vertical-align: top;\n",
       "    }\n",
       "\n",
       "    .dataframe thead th {\n",
       "        text-align: right;\n",
       "    }\n",
       "</style>\n",
       "<table border=\"1\" class=\"dataframe\">\n",
       "  <thead>\n",
       "    <tr style=\"text-align: right;\">\n",
       "      <th></th>\n",
       "      <th>x_1</th>\n",
       "      <th>x_2</th>\n",
       "      <th>x_3</th>\n",
       "      <th>x_4</th>\n",
       "      <th>x_5</th>\n",
       "      <th>x_6</th>\n",
       "      <th>x_7</th>\n",
       "      <th>x_8</th>\n",
       "      <th>x_9</th>\n",
       "      <th>x_10</th>\n",
       "    </tr>\n",
       "  </thead>\n",
       "  <tbody>\n",
       "    <tr>\n",
       "      <th>Iteration Process</th>\n",
       "      <td>6.500</td>\n",
       "      <td>5.000</td>\n",
       "      <td>4.000</td>\n",
       "      <td>3.333</td>\n",
       "      <td>2.889</td>\n",
       "      <td>2.593</td>\n",
       "      <td>2.395</td>\n",
       "      <td>2.263</td>\n",
       "      <td>2.176</td>\n",
       "      <td>2.117</td>\n",
       "    </tr>\n",
       "  </tbody>\n",
       "</table>\n",
       "</div>"
      ],
      "text/plain": [
       "                     x_1    x_2    x_3    x_4    x_5    x_6    x_7    x_8  \\\n",
       "Iteration Process  6.500  5.000  4.000  3.333  2.889  2.593  2.395  2.263   \n",
       "\n",
       "                     x_9   x_10  \n",
       "Iteration Process  2.176  2.117  "
      ]
     },
     "metadata": {},
     "output_type": "display_data"
    },
    {
     "data": {
      "image/png": "[encoded data removed]",
      "text/plain": [
       "<Figure size 720x432 with 1 Axes>"
      ]
     },
     "metadata": {
      "needs_background": "light"
     },
     "output_type": "display_data"
    }
   ],
   "source": [
    "def fn(x): \n",
    "    return (x-2)**3; \n",
    "def d1(x): \n",
    "    return 3*(x-2)**2; \n",
    "newton_example(fn,d1)"
   ]
  },
  {
   "cell_type": "markdown",
   "metadata": {
    "slideshow": {
     "slide_type": "slide"
    }
   },
   "source": [
    "### Problem:  Gradient Descent vs. Newton\n",
    "\n",
    "Below, let $f : \\R \\rightarrow \\R$.  Suppose our current guess at a minimizer is $x_t \\in \\R$.\n",
    "\n",
    "<div style=\"border:1px solid black; padding:20px; margin:20px\">\n",
    "<b>Part A</b>  Gradient descent chooses $x_{t+1} = x_t - \\eta f'(x_t)$.  Show that\n",
    "    $$\n",
    "    x_{t+1} = \\arg\\min_{x} f(x_t) + f'(x_t)(x-x_t) + \\tfrac{\\eta}{2} (x-x_t)^2\n",
    "    $$\n",
    "</div>"
   ]
  },
  {
   "cell_type": "markdown",
   "metadata": {
    "slideshow": {
     "slide_type": "slide"
    }
   },
   "source": [
    "### Problem:  Newton's Method for Optimization\n",
    "\n",
    "Suppose we want to minimize a function $f : \\R \\rightarrow \\R$.  \n",
    "\n",
    "* Candidates for local minima are the **critical points** $x \\in \\R$ such that $f'(x) = 0$\n",
    "* If $f$ is convex, the critical point is the global minimum.\n",
    "* Otherwise, still need to check whether we're at a minimum, maximum, or saddle point.\n",
    "\n",
    "<div style=\"border:1px solid black; padding:20px; margin:20px\">\n",
    "<b>Problem:</b>  Use Newton's method to derive an algorithm for finding critical points of a function $f : \\R \\rightarrow \\R$.\n",
    "<ul>\n",
    "    <li>Which assumptions do you need to make about $f$?</li>\n",
    "</ul>\n",
    "</div>"
   ]
  },
  {
   "cell_type": "markdown",
   "metadata": {
    "slideshow": {
     "slide_type": "slide"
    }
   },
   "source": [
    "### Solution:  Newton's Method for Optimization\n",
    "\n",
    "1. For $f : \\R \\rightarrow \\R$, we want to find zeros of $f' : \\R \\rightarrow \\R$.\n",
    "2. Applying Newton's root-finding method from an initial guess $x_0 \\in \\R$,\n",
    "    $$\n",
    "    x_{t+1} = x_t - \\frac{f'(x_t)}{f''(x_t)}\n",
    "    $$\n",
    "3. This requires that $f$ is twice differentiable and $f''(x_t) \\neq 0$."
   ]
  },
  {
   "cell_type": "markdown",
   "metadata": {
    "slideshow": {
     "slide_type": "slide"
    }
   },
   "source": [
    "### Problem:  Multivariate Newton for Optimization\n",
    "\n",
    "Now, suppose we want to minimize the multivariate function $f : \\R^n \\rightarrow \\R$.\n",
    "\n",
    "* The derivative evaluated at any $x \\in \\R^n$ is a linear transformation $\\nabla_x f : \\R^n \\rightarrow \\R$\n",
    "    * Can be represented by a row vector.\n",
    "* At a critical point, the function $\\nabla_x f$ should map every input to zero.\n",
    "    * i.e. at a critical point $\\nabla_x f$ is represented by the zero vector.\n",
    "    \n",
    "<div style=\"border:1px solid black; padding:20px; margin:20px\">\n",
    "<b>Problem:</b>  Derive a multivariable version of Newton's method for finding critical points of $f : \\R^n \\rightarrow \\R$.\n",
    "<ul>\n",
    "    <li>(Use the linear approximation interpretation of Newton's root-finding method.)</li>\n",
    "    <li>What assumptions are needed about the function $f$ for this method to work?</li>\n",
    "</ul>\n",
    "</div>"
   ]
  },
  {
   "cell_type": "markdown",
   "metadata": {
    "slideshow": {
     "slide_type": "slide"
    }
   },
   "source": [
    "### Solution:  Multivariate Newton for Optimization\n",
    "\n",
    "Essentially, we want to find zeros of the map $\\varphi : \\R^n \\rightarrow \\R^n$ mapping $x \\mapsto \\nabla_x f$.  The linear approximation to $\\varphi$ at a point $x_t \\in \\R^n$ is\n",
    "$$\n",
    "\\psi(y) = \\varphi(x_t) + (\\nabla_{x_t} \\varphi) (y-x_t)\n",
    "$$\n",
    "\n",
    "Since $\\varphi : \\R^n \\rightarrow \\R^n$, its derivative $\\varphi \\in L(\\R^n \\rightarrow \\R^n)$ can be represented by an $(n \\times n)$ matrix.  Assume this matrix is invertible.  Choose $x_{t+1}$ to be a root of $\\psi$,\n",
    "$$\n",
    "\\begin{align}\n",
    "\\psi(x_{t+1}) = 0 &\\implies (\\nabla_{x_t} \\varphi) (x_{t+1}-x_t) = -\\varphi(x_t) \\\\\n",
    "&\\implies x_{t+1} - x_t = - (\\nabla_{x_t} \\varphi)^{-1} \\varphi(x_t) \\\\\n",
    "\\end{align}\n",
    "$$\n",
    "Notice that $\\nabla_{x_t} \\varphi$ is the Hessian of $f$, and $\\varphi(x_t)$ was defined to be the gradient.  Therefore, multivariate Newton's method for optimization has the form\n",
    "$$\n",
    "x_{t+1} = x_t - (\\nabla^2_{x_t} f)^{-1} (\\nabla_{x_t} f)\n",
    "$$"
   ]
  },
  {
   "cell_type": "markdown",
   "metadata": {
    "slideshow": {
     "slide_type": "slide"
    }
   },
   "source": [
    "### Remark:  Computing Inverses\n",
    "\n",
    "Inverting large matrices, or even approximating the matrix inverse, is **expensive** unless the matrices involved have very special structure. \n",
    "* $O(n^3)$ for naive methods like Gaussian elimination\n",
    "* $O(n^{2.373})$ if you're really clever\n",
    "\n",
    "So, Newton's method isn't used much in practice, but it is the inspiration for many other methods.  Some related topics:\n",
    "* Fast algorithms exist for computing **(inverse-)Hessian-vector products**\n",
    "* Automatic differentiation\n",
    "* Hessian-free optimization ([video](https://www.youtube.com/watch?v=iJ67SnPHEnU) and [paper](http://www.cs.toronto.edu/~jmartens/docs/Deep_HessianFree.pdf))\n",
    "* LBFGS, nonlinear conjugate gradient"
   ]
  },
  {
   "cell_type": "markdown",
   "metadata": {
    "slideshow": {
     "slide_type": "slide"
    }
   },
   "source": [
    "### Remark:  Nonlinear Systems of Equations\n",
    "\n",
    "Multivariate Newton's method is also a general root-finding method that can also be used to find solutions of nonlinear systems of equations:\n",
    "\n",
    "$$\n",
    "\\begin{align}\n",
    "f_1(x_1,\\dots,x_n) &= 0 \\\\\n",
    "f_2(x_1,\\dots,x_n) &= 0 \\\\\n",
    "\\vdots & \\\\\n",
    "f_m(x_1,\\dots,x_n) &= 0\n",
    "\\end{align}\n",
    "$$\n",
    "\n",
    "When $m=n$, Newton's method is what you'd expect.  When $m \\neq n$, i.e. the system is under- or over-determined, there are some subtleties.\n",
    "\n"
   ]
  },
  {
   "cell_type": "markdown",
   "metadata": {
    "slideshow": {
     "slide_type": "slide"
    }
   },
   "source": [
    "### Problem:  Newton's Method for Quadratic\n",
    "\n",
    "Let $A \\in \\R^{n \\times n}$ be a symmetric non-singular PSD matrix, and let $b$ be an arbitrary vector. Let\n",
    "$$f(x) = \\frac 1 2 x^\\top A x + b^\\top x + c$$\n",
    "Show that Newton's method converges in *a single iteration*!"
   ]
  },
  {
   "cell_type": "markdown",
   "metadata": {
    "slideshow": {
     "slide_type": "slide"
    }
   },
   "source": [
    "### Problem: Newton's Method for Quadratic 2\n",
    "\n",
    "Let $A \\in \\R^{n \\times n}$ be a symmetric non-singular PSD matrix, and let $b$ be an arbitrary vector. Let\n",
    "$$f(x) = \\frac 1 2 x^\\top A x + b^\\top x + c$$\n",
    "Under what conditions for $A$ is Newton's method a special case of gradient descent?"
   ]
  },
  {
   "cell_type": "markdown",
   "metadata": {
    "slideshow": {
     "slide_type": "skip"
    }
   },
   "source": [
    "### Justification:  Conditioning\n",
    "\n",
    "* Gradient descent has trouble when the level curves of the objective are ellipses.\n",
    "* Newton's method stretches space to turn ellipses into circles!\n",
    "* Derive Multivariate Newton for Optimization as a root-finding algorithm\n",
    "* Show that Gradient Descent can be interpreted as minimizing a quadratic $\\phi(y) = f(x) + \\inner{\\nabla f(x), y-x} + \\norm{y-x}^2$\n",
    "* Show Newton's method is affinely invariant\n",
    "    * Should probably motivate this with a problem demonstrating that gradient descent is NOT affinely invariant\n",
    "* Convergence analysis?\n",
    "* Newton with step size?\n",
    "\n",
    "Helpful resources:\n",
    "\n",
    "* Boyd section 9.5\n",
    "* https://www.math.ntnu.no/emner/TMA4123/2012v/notater/nr-systems-a4.pdf\n",
    "* http://www.stat.cmu.edu/~ryantibs/convexopt-S15/lectures/14-newton.pdf\n",
    "* https://www.cs.ccu.edu.tw/~wtchu/courses/2014s_OPT/Lectures/Chapter%209%20Newton's%20Method.pdf\n",
    "* http://homes.sice.indiana.edu/classes/spring2012/csci/b553-hauserk/newtons_method.pdf\n",
    "* http://web.mit.edu/18.06/www/Spring17/Multidimensional-Newton.pdf\n",
    "* http://www.math.pitt.edu/~sussmanm/2070/lab_05/index.html\n",
    "* http://www.ohiouniversityfaculty.com/youngt/IntNumMeth/lecture13.pdf\n"
   ]
  },
  {
   "cell_type": "markdown",
   "metadata": {
    "slideshow": {
     "slide_type": "slide"
    }
   },
   "source": [
    "## Let's try it out!\n",
    "\n",
    "We are going to use Newton's method to compute the minimizer of this function:\n",
    "$$f(x) := \\log \\left( \\sum_{i=1}^n \\exp(x_i) \\right) - v\\cdot x$$\n",
    "where $v$ is some arbitrary vector. Recall, you already proved this function is convex!"
   ]
  },
  {
   "cell_type": "code",
   "execution_count": 97,
   "metadata": {
    "slideshow": {
     "slide_type": "skip"
    }
   },
   "outputs": [],
   "source": [
    "import numpy as np\n",
    "\n",
    "# Note that here we are using the *pseudoinverse* of a matrix (see pinv below).\n",
    "# Don't worry about what that is for now, we'll discuss this more later.\n",
    "from numpy.linalg import pinv as matrix_inverse\n",
    "\n",
    "LENGTH = 10\n",
    "\n",
    "# Let's pick an arbitrary vector\n",
    "vec = np.arange(1,LENGTH+1)\n",
    "vec = vec/np.sum(vec)\n",
    "\n",
    "# Here's a good arbitrary initial x\n",
    "xinit = np.ones((LENGTH,))\n",
    "\n",
    "# Here is the function\n",
    "def func(x):\n",
    "    logsumexp = np.log(np.sum(np.exp(x)))\n",
    "    return logsumexp - vec.dot(x)\n",
    "\n",
    "# Here is the gradient\n",
    "def func_grad(x):\n",
    "    expsum = np.exp(x)\n",
    "    expsumnorm = expsum/sum(expsum)\n",
    "    return expsumnorm - vec\n",
    "\n",
    "def func_hess(x):\n",
    "    expsum = np.exp(x)\n",
    "    expsumnorm = expsum/np.sum(expsum)\n",
    "    # Can you figure out what the hessian is? Hint: use 'expsumnorm',\n",
    "    # and you might find the function np.outer(a,b) to be useful, which is\n",
    "    # the outer produce of a and b\n",
    "    return None\n"
   ]
  },
  {
   "cell_type": "code",
   "execution_count": null,
   "metadata": {
    "slideshow": {
     "slide_type": "skip"
    }
   },
   "outputs": [],
   "source": [
    "x = xinit\n",
    "print(\"init cost is %.9f\" % func(x))\n",
    "for i in range(10):\n",
    "    # put some code here!\n",
    "    # We gave you a function you can use: matrix_inverse()\n",
    "    # Update the vector x:\n",
    "    #   first do an interation of Newton's method\n",
    "    # Then print out:\n",
    "    print(\"on iteration %d, the value of f(x) is %.9f\" % (i,func(x)))\n",
    "    \n",
    "# Now let's check to see how big our gradient is\n",
    "print(\"The final gradient is: \")\n",
    "print(func_grad(x))"
   ]
  }
 ],
 "metadata": {
  "celltoolbar": "Slideshow",
  "kernelspec": {
   "display_name": "Python 3",
   "language": "python",
   "name": "python3"
  },
  "language_info": {
   "codemirror_mode": {
    "name": "ipython",
    "version": 3
   },
   "file_extension": ".py",
   "mimetype": "text/x-python",
   "name": "python",
   "nbconvert_exporter": "python",
   "pygments_lexer": "ipython3",
   "version": "3.7.3"
  }
 },
 "nbformat": 4,
 "nbformat_minor": 4
}
