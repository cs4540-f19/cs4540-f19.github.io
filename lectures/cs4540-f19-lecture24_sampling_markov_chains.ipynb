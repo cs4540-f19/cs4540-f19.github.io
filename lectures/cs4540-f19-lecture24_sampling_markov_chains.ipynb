{
 "cells": [
  {
   "cell_type": "markdown",
   "metadata": {},
   "source": [
    "$\\LaTeX \\text{ commands here}\n",
    "\\newcommand{\\R}{\\mathbb{R}}\n",
    "\\newcommand{\\im}{\\text{im}\\,}\n",
    "\\newcommand{\\norm}[1]{||#1||}\n",
    "\\newcommand{\\inner}[1]{\\langle #1 \\rangle}\n",
    "\\newcommand{\\span}{\\mathrm{span}}\n",
    "\\newcommand{\\proj}{\\mathrm{proj}}\n",
    "\\newcommand{\\OPT}{\\mathrm{OPT}}\n",
    "\\newcommand{\\vx}{\\vec{x}}\n",
    "\\newcommand{\\I}{\\mathbb{I}}\n",
    "$"
   ]
  },
  {
   "cell_type": "markdown",
   "metadata": {
    "slideshow": {
     "slide_type": "slide"
    }
   },
   "source": [
    "\n",
    "<hr style=\"border: 5px solid black\">\n",
    "\n",
    "**Georgia Tech, CS 4540**\n",
    "\n",
    "# Lecture 23: Sampling and Markov Chains\n",
    "\n",
    "Jacob Abernethy\n",
    "\n",
    "*Date:  Thursday, November 21, 2019*"
   ]
  },
  {
   "cell_type": "markdown",
   "metadata": {
    "slideshow": {
     "slide_type": "slide"
    }
   },
   "source": [
    "## A Core CS Problem: Sampling from a Distrbution\n",
    "\n",
    "There are many problems on which we need to be able to generate random samples from various probability distributions. \n",
    "\n",
    "- **Cryptography**: Generate random prime numbers\n",
    "- **Optimization**: Optimizing non-convex functions using *simulated annealing*\n",
    "- **Physics**: Sample states of a physical system, i.e. the spin direction of particles in a solid\n",
    "- **Machine Learning**: Sample parameters from the posterior distribution of a Bayesian model"
   ]
  },
  {
   "cell_type": "markdown",
   "metadata": {},
   "source": [
    "## Sampling has had a rebirth in ML\n",
    "\n",
    "We have recently seen the birth of Generative Adversarial Networks, a deep learning technique for producing random samples that appear to resemble images that match the distribution of some training set."
   ]
  },
  {
   "cell_type": "code",
   "execution_count": 3,
   "metadata": {},
   "outputs": [
    {
     "data": {
      "image/jpeg": "[encoded data removed]",
      "text/html": [
       "\n",
       "        <iframe\n",
       "            width=\"400\"\n",
       "            height=\"300\"\n",
       "            src=\"https://www.youtube.com/embed/XOxxPcy5Gr4\"\n",
       "            frameborder=\"0\"\n",
       "            allowfullscreen\n",
       "        ></iframe>\n",
       "        "
      ],
      "text/plain": [
       "<IPython.lib.display.YouTubeVideo at 0x1095a4978>"
      ]
     },
     "execution_count": 3,
     "metadata": {},
     "output_type": "execute_result"
    }
   ],
   "source": [
    "from IPython.display import YouTubeVideo\n",
    "YouTubeVideo('XOxxPcy5Gr4')\n"
   ]
  },
  {
   "cell_type": "markdown",
   "metadata": {},
   "source": [
    "## Algorithms for sampling simple probability distributions\n",
    "\n",
    "Let's say I have the ability to sample a fair coin toss $X \\in \\{0,1\\}$ as many times as I want (equal probability of 0 and 1).\n",
    "\n",
    "#### Problem\n",
    "\n",
    "1. Using my access to coin tosses, how can I sample a real-valued random variable $U$ that is uniformly distributed on $[0,1]$? Assume I have to output this to $k$ values of precision.\n",
    "1. Using coin tosses, how can I sample a discrete random variable $Z$ from $[n]$ that has distribution $P(Z = i) = p_i$, $i=1, \\ldots, n$? "
   ]
  },
  {
   "cell_type": "markdown",
   "metadata": {
    "slideshow": {
     "slide_type": "slide"
    }
   },
   "source": [
    "## More sampling\n",
    "\n",
    "Let's try a bigger class of distributions.\n",
    "\n",
    "#### Problem\n",
    "\n",
    "1. How can I sample a random variable $Z$ from the standard *exponential distribution*? A standard exponential has PDF $p(Z = x) = \\exp(-x)$ and CDF $P(Z \\leq x) = 1 - \\exp(-x)$. (*Hint*: can you somehow transform a random variable $U$ that is uniform on $[0,1]$ into an exponential distribution?)\n",
    "1. Take any distribution with CDF $f(x) = P(Z \\leq x)$. Assume we can invert $f$, so for any $p \\in (0,1)$ we can find $f^{-1}(p)$. How can we sample from this distribution using only coin tosses?"
   ]
  },
  {
   "cell_type": "markdown",
   "metadata": {
    "slideshow": {
     "slide_type": "slide"
    }
   },
   "source": [
    "## Sampling can get very tricky\n",
    "\n",
    "Here are some canonical examples of tricky (and sometimes #P-hard!) sampling problems:\n",
    "\n",
    "1. Sampling a random spanning tree in a graph (this is possible!)\n",
    "1. Sampling a random cycle in a graph (not easy)\n",
    "1. Sampling a random Euler cyle in a graph (not easy)\n",
    "1. Sampling a random perfect matching in a graph (we have good approximate method here!)"
   ]
  },
  {
   "cell_type": "markdown",
   "metadata": {
    "slideshow": {
     "slide_type": "slide"
    }
   },
   "source": [
    "## The permanent of a matrix, and perfect matchings\n",
    "\n",
    "Assume we have an $n \\times n$ binary matrix $M$. Recall that the *permanent* of a matrix is defined as\n",
    "$$\\text{perm}(M) = \\sum_{\\sigma \\in S_n} \\prod_{i=1}^n M_{i\\sigma(i)}$$\n",
    "where $S_n$ is the set of all $n!$ permutations. \n",
    "\n",
    "**Note**: Computing the determinant of a matrix is easy! But computing the permanent is #P-hard!!!\n",
    "\n",
    "#### Problem\n",
    "\n",
    "Convince yourself that computing the permanent of binary matrix $M$ is equivalent to counting the number of perfect matchings in an undirected bipartite graph with $n$ nodes in each partition."
   ]
  },
  {
   "cell_type": "markdown",
   "metadata": {
    "slideshow": {
     "slide_type": "slide"
    }
   },
   "source": [
    "## Sampling perfect matchings ==> Estimating the Permanent\n",
    "\n",
    "$$\\text{perm}(M) = \\sum_{\\sigma \\in S_n} \\prod_{i=1}^n M_{i\\sigma(i)}$$\n",
    "\n",
    "\n",
    "#### Problem\n",
    "\n",
    "Assume you had some algorithm that can sample perfect matchings uniformly at random. How can you use that to estimate the permanent of a matrix?\n",
    "\n",
    "*Hint*: The trick is to construct a sequence of graphs, where each successive graph has one edge deleted. If $M'$ has one fewer edge than $M$, can you think of a way to estimate $\\frac{\\text{perm}(M)}{\\text{perm}(M')}$?"
   ]
  },
  {
   "cell_type": "markdown",
   "metadata": {
    "slideshow": {
     "slide_type": "slide"
    }
   },
   "source": [
    "# Markov Chains\n"
   ]
  },
  {
   "cell_type": "markdown",
   "metadata": {
    "slideshow": {
     "slide_type": "slide"
    }
   },
   "source": [
    "### Markov Models\n",
    "\n",
    "A **Markov chain** is a series of random variables $X_1, \\dots, X_N$ satisfying the *Markov property*:\n",
    "> The future is independent of the past, given the present.\n",
    "    $$\n",
    "    p(x_n | x_1, \\dots, x_{n-1}) = p(x_n | x_{n-1})\n",
    "    $$\n",
    "    \n",
    "A chain is **stationary** if the transition probabilities do not change with time."
   ]
  },
  {
   "cell_type": "markdown",
   "metadata": {
    "slideshow": {
     "slide_type": "slide"
    }
   },
   "source": [
    "### Markov Models:  The \"graphical model\"\n",
    "\n",
    "We can represent a Markov chain using a \"directed graphical model\". The graph specifies how the sequence of random variables relate to each other, and in particular the independence assumptions.\n",
    "\n",
    "> This idea is complex and I'd recommend a course on graphical models to learn more"
   ]
  },
  {
   "cell_type": "code",
   "execution_count": 5,
   "metadata": {
    "collapsed": true,
    "jupyter": {
     "outputs_hidden": true,
     "source_hidden": true
    },
    "slideshow": {
     "slide_type": "skip"
    }
   },
   "outputs": [],
   "source": [
    "@pgm_render\n",
    "def pgm_markov_chain():\n",
    "    pgm = daft.PGM([6, 6], origin=[0, 0])\n",
    "\n",
    "    # Nodes\n",
    "    pgm.add_node(daft.Node(\"x1\", r\"$X_n$\", 2, 2.5))\n",
    "    pgm.add_node(daft.Node(\"x2\", r\"$X_2$\", 3, 2.5))\n",
    "    pgm.add_node(daft.Node(\"ellipsis\", r\" . . . \", 3.7, 2.5, \n",
    "                           offset=(0, 0), plot_params={\"ec\" : \"none\"}))\n",
    "    pgm.add_node(daft.Node(\"ellipsis_end\", r\"\", 3.7, 2.5, \n",
    "                           offset=(0, 0), plot_params={\"ec\" : \"none\"}))\n",
    "    pgm.add_node(daft.Node(\"xN\", r\"$X_N$\", 4.5, 2.5))\n",
    "\n",
    "    # Add in the edges.\n",
    "    pgm.add_edge(\"x1\", \"x2\", head_length=0.08)\n",
    "    pgm.add_edge(\"x2\", \"ellipsis\", head_length=0.08)\n",
    "    pgm.add_edge(\"ellipsis_end\", \"xN\", head_length=0.08)\n",
    "    \n",
    "    return pgm;"
   ]
  },
  {
   "cell_type": "code",
   "execution_count": 6,
   "metadata": {
    "jupyter": {
     "source_hidden": true
    },
    "slideshow": {
     "slide_type": "-"
    }
   },
   "outputs": [
    {
     "data": {
      "image/png": "[encoded data removed]",
      "text/plain": [
       "<IPython.core.display.Image object>"
      ]
     },
     "execution_count": 6,
     "metadata": {},
     "output_type": "execute_result"
    }
   ],
   "source": [
    "%%capture\n",
    "pgm_markov_chain(\"images/pgm/markov-chain.png\")"
   ]
  },
  {
   "cell_type": "markdown",
   "metadata": {
    "slideshow": {
     "slide_type": "slide"
    }
   },
   "source": [
    "### Markov Models:  Joint Distribution\n",
    "\n",
    "If a sequence has the Markov property, then the joint distribution factorizes according to\n",
    "    $$\n",
    "    p(x_1, \\dots, x_N) = p(x_1) \\prod_{n=2}^N p(x_n | x_{n-1})\n",
    "    $$"
   ]
  },
  {
   "cell_type": "markdown",
   "metadata": {
    "slideshow": {
     "slide_type": "slide"
    }
   },
   "source": [
    "### Markov Models:  Transition Matrix\n",
    "\n",
    "Suppose $X_t \\in \\{1,\\dots,K\\}$ is discrete.  Then, a stationary chain with $N$ states can be described by a **transition matrix**, $A \\in \\R^{N \\times N}$ where\n",
    "    $$\n",
    "    a_{ij} = p(X_t=j \\mid X_{t-1}=i)\n",
    "    $$\n",
    "\n",
    "is the probability of transitioning from state $i$ to $j$.\n",
    "\n",
    "> Each row sums to one, $\\sum_{j=1}^K A_{ij} = 1$, so $A$ is a *row-stochastic matrix*."
   ]
  },
  {
   "cell_type": "markdown",
   "metadata": {
    "slideshow": {
     "slide_type": "slide"
    }
   },
   "source": [
    "### Markov Models:  Transition Diagram\n",
    "\n",
    "Transitions between states can be represented as a graph:\n",
    "\n",
    "![](./images/murphy-fig174-markov.png)\n",
    "\n",
    "> The nodes in this graph represent states that each $X_i$ can take.\n",
    "\n",
    "Here the transition matrix is $A = \\begin{bmatrix} (1-\\alpha) & \\alpha  \\\\  \\beta & (1-\\beta) \\end{bmatrix}$\n",
    "\n"
   ]
  },
  {
   "cell_type": "markdown",
   "metadata": {
    "slideshow": {
     "slide_type": "slide"
    }
   },
   "source": [
    "## Why do we care about Markov Models?\n",
    "\n",
    "**Answer**: they are the ideal model to reason about many randomized algorithms. Consider the following alg:\n",
    "\n",
    "```python\n",
    "state = 0\n",
    "for i in range(NUMITER):\n",
    "    cointoss = np.random.somedist() # sample a random variable\n",
    "    state = update(state,cointoss)  # update state based on random sample\n",
    "return state\n",
    "```\n",
    "\n",
    "We can analyze the behavior of this algorithm by viewing the `state` variable as following a markov process.\n",
    "\n"
   ]
  },
  {
   "cell_type": "markdown",
   "metadata": {
    "slideshow": {
     "slide_type": "slide"
    }
   },
   "source": [
    "### Markov Models:  State Vectors\n",
    "\n",
    "Consider a row vector $x_t \\in \\R^{1 \\times K}$ with entries $x_{tj} = p(X_t = j)$.  Then,"
   ]
  },
  {
   "cell_type": "markdown",
   "metadata": {
    "slideshow": {
     "slide_type": "fragment"
    }
   },
   "source": [
    "$$\n",
    "    \\begin{align}\n",
    "    p(X_t = j)\n",
    "    &= \\sum_{i=1}^K p(X_t = j \\mid X_{t-1} = i) p(X_{t-1} = i) \\\\\n",
    "    &= \\sum_{i=1}^K A_{ij} x_{t-1,i} \\\\\n",
    "    \\end{align}\n",
    "$$"
   ]
  },
  {
   "cell_type": "markdown",
   "metadata": {
    "slideshow": {
     "slide_type": "fragment"
    }
   },
   "source": [
    "Therefore, we conclude $x_t = x_{t-1} A$.\n",
    "\n",
    "(Note $\\sum_{j=1}^K x_{tj} = 1$.)"
   ]
  },
  {
   "cell_type": "markdown",
   "metadata": {
    "slideshow": {
     "slide_type": "slide"
    }
   },
   "source": [
    "### Markov Models:  Matrix Powers\n",
    "\n",
    "Since $x_t = x_{t-1} A$, this suggests that in general,\n",
    "    $$\n",
    "    x_{t} = x_{t-1} A = x_{t-2} A^2 = \\cdots x_{0} A^t\n",
    "    $$\n",
    "If we know the initial state probabilities $x_0$, we can find the probabilities of landing in any state at time $t > 0$."
   ]
  },
  {
   "cell_type": "markdown",
   "metadata": {
    "slideshow": {
     "slide_type": "slide"
    }
   },
   "source": [
    "### Example:  Weather\n",
    "\n",
    "Suppose the weather is either $R=\\text{Rainy}$ or $S=\\text{Sunny}$,\n",
    "    $$\n",
    "    A = \\begin{bmatrix}\n",
    "        0.9 & 0.1 \\\\\n",
    "        0.5 & 0.5\n",
    "    \\end{bmatrix}\n",
    "    $$\n",
    "\n",
    "![](images/markov-chain-weather.png)"
   ]
  },
  {
   "cell_type": "markdown",
   "metadata": {
    "slideshow": {
     "slide_type": "slide"
    }
   },
   "source": [
    "### Example:  Weather\n",
    "\n",
    "Suppose today is sunny, $x_0 = \\begin{bmatrix} 1 & 0 \\end{bmatrix}$.  We can predict tomorrow's weather,\n",
    "    $$\n",
    "    x_1 = x_0 A = \\begin{bmatrix} 0.9 & 0.1 \\end{bmatrix}\n",
    "    $$\n",
    "The weather over the next several days will be\n",
    "    $$\n",
    "    \\begin{align}\n",
    "    x_2 &= x_1 A = \\begin{bmatrix} 0.86 & 0.14 \\end{bmatrix} \\\\\n",
    "    x_3 &= x_2 A = \\begin{bmatrix} 0.844 & 0.156 \\end{bmatrix} \\\\\n",
    "    x_4 &= x_3 A = \\begin{bmatrix} 0.8376 & 0.1624 \\end{bmatrix}\n",
    "    \\end{align}\n",
    "    $$\n",
    "\n",
    "> **Question:** What happens to $x_0 A^n$ as $n \\rightarrow \\infty$?"
   ]
  },
  {
   "cell_type": "markdown",
   "metadata": {
    "slideshow": {
     "slide_type": "slide"
    }
   },
   "source": [
    "### Markov Chains:  Stationary Distribution\n",
    "\n",
    "If we ever reach a stage $x$ where\n",
    "    $$\n",
    "    x = xA\n",
    "    $$\n",
    "then we have reached the **stationary distribution** of the chain.\n",
    "- To find $x=v^T$, solve the eigenvalue problem $A^T v = v$\n",
    "- Under certain conditions, the limiting distribution $\\lim_{n \\rightarrow \\infty} x_0 A^n = x$\n",
    "- Stationary distribution $x$ does not depend on the starting state $x_0$"
   ]
  }
 ],
 "metadata": {
  "kernelspec": {
   "display_name": "Python 3",
   "language": "python",
   "name": "python3"
  },
  "language_info": {
   "codemirror_mode": {
    "name": "ipython",
    "version": 3
   },
   "file_extension": ".py",
   "mimetype": "text/x-python",
   "name": "python",
   "nbconvert_exporter": "python",
   "pygments_lexer": "ipython3",
   "version": "3.7.3"
  }
 },
 "nbformat": 4,
 "nbformat_minor": 4
}
