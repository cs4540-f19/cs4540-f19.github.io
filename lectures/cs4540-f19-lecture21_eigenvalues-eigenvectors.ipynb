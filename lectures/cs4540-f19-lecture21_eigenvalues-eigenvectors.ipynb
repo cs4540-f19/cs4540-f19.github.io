{
 "cells": [
  {
   "cell_type": "code",
   "execution_count": 2,
   "metadata": {
    "nbpresent": {
     "id": "c11f7b86-dba3-4e8d-afbf-bd147373e999"
    },
    "slideshow": {
     "slide_type": "slide"
    }
   },
   "outputs": [],
   "source": [
    "%matplotlib inline\n",
    "import numpy as np;\n",
    "import matplotlib\n",
    "import matplotlib.pyplot as plt"
   ]
  },
  {
   "cell_type": "markdown",
   "metadata": {
    "nbpresent": {
     "id": "9707fbb8-a773-42d6-982b-ee1f3c961f53"
    }
   },
   "source": [
    "$\\LaTeX \\text{ commands here}\n",
    "\\newcommand{\\R}{\\mathbb{R}}\n",
    "\\newcommand{\\im}{\\text{im}\\,}\n",
    "\\newcommand{\\norm}[1]{||#1||}\n",
    "\\newcommand{\\inner}[1]{\\langle #1 \\rangle}\n",
    "\\newcommand{\\span}{\\mathrm{span}}\n",
    "\\newcommand{\\proj}{\\mathrm{proj}}\n",
    "\\newcommand{\\OPT}{\\mathrm{OPT}}\n",
    "\\newcommand{\\grad}{\\nabla}\n",
    "\\newcommand{\\eps}{\\varepsilon}\n",
    "$"
   ]
  },
  {
   "cell_type": "markdown",
   "metadata": {
    "nbpresent": {
     "id": "d47522cd-d9c5-4612-87a1-e2c1dfdb40d6"
    },
    "slideshow": {
     "slide_type": "slide"
    }
   },
   "source": [
    "<hr style=\"border: 5px solid black\">\n",
    "\n",
    "**Georgia Tech, CS 4540**\n",
    "\n",
    "# L21: Computing Eigenvalues & Eigenvectors\n",
    "\n",
    "*Tuesday, November 12, 2019*"
   ]
  },
  {
   "cell_type": "markdown",
   "metadata": {
    "slideshow": {
     "slide_type": "slide"
    }
   },
   "source": [
    "### Outline\n",
    "\n",
    "* Review of Reading\n",
    "    * Power Iteration\n",
    "    * Problem:  Eigenvalues of the Inverse\n",
    "    * Inverse Iteration\n",
    "    * Rayleigh Quotient Iteration\n",
    "* Implementation!\n",
    "    * (plus an aside about random matrices)\n",
    "    "
   ]
  },
  {
   "cell_type": "markdown",
   "metadata": {
    "slideshow": {
     "slide_type": "slide"
    }
   },
   "source": [
    "# Review of Reading"
   ]
  },
  {
   "cell_type": "markdown",
   "metadata": {
    "slideshow": {
     "slide_type": "slide"
    }
   },
   "source": [
    "### Computing Eigenvalues & Eigenvectors\n",
    "\n",
    "Want to compute the eigenvalues/vectors for a real, symmetric $A \\in \\R^{m \\times m}$.\n",
    "* Real eigenvalues $\\lambda_1, \\dots, \\lambda_m \\in \\R$\n",
    "* Orthonormal eigenvectors $q_1,\\dots,q_m \\in \\R^m$, with $\\norm{q_j}_2 = 1$\n",
    "\n",
    "Assume the eigenvalues are sorted by absolute value, and that there is a dominant eigenvalue:\n",
    "\n",
    "$$\n",
    "|\\lambda_1| > |\\lambda_2| \\geq |\\lambda_3| \\geq \\cdots \\geq |\\lambda_n|\n",
    "$$"
   ]
  },
  {
   "cell_type": "markdown",
   "metadata": {
    "slideshow": {
     "slide_type": "slide"
    }
   },
   "source": [
    "### Recall:  Power Iteration\n",
    "\n",
    "Compute the dominant eigenvector by repeatedly applying a matrix to the starting vector.\n",
    "\n",
    "![](images/l15-power-iteration.png)"
   ]
  },
  {
   "cell_type": "markdown",
   "metadata": {
    "slideshow": {
     "slide_type": "slide"
    }
   },
   "source": [
    "### Recall:  Power Iteration\n",
    "\n",
    "![](images/l15-power-iteration-theorem.png)"
   ]
  },
  {
   "cell_type": "markdown",
   "metadata": {
    "slideshow": {
     "slide_type": "slide"
    }
   },
   "source": [
    "### Recall:  Inverse Iteration\n",
    "\n",
    "Compute the eigenvector closest to $\\mu$ by using power iteration on the matrix $(A-\\mu I)^{-1}$.  We do this to amplify the ratio $|\\lambda_2 / \\lambda_1|$ from the theorem.\n",
    "\n",
    "![](images/l15-inverse-iteration.png)"
   ]
  },
  {
   "cell_type": "markdown",
   "metadata": {
    "slideshow": {
     "slide_type": "slide"
    }
   },
   "source": [
    "### Problem:  Eigenvalues of the Inverse\n",
    "\n",
    "Recall that in a previous lecture, you showed that if $A$ has eigenpairs $A v_k = \\lambda_k v_k$ for $1 \\leq k \\leq n$, then the matrix $(A-\\alpha I)$ has eigenvectors $\\lambda_k - \\alpha$ with corresponding eigenvectors $v_k$ .\n",
    "\n",
    "<div style=\"padding:10px; margin:10px; border:1px solid black\">\n",
    "<b>Part A:</b> Assuming invertibility, what are the eigenvalues and eigenvectors of $A^{-1}$?\n",
    "    \n",
    "<b>Part B:</b> Assuming invertibility, what are the eigenvalues and eigenvectors of $(A - \\mu I)^{-1}$, for $\\mu \\in \\R$? \n",
    "</div>"
   ]
  },
  {
   "cell_type": "markdown",
   "metadata": {
    "slideshow": {
     "slide_type": "slide"
    }
   },
   "source": [
    "### Solution:  Eigenvalues of the Inverse\n",
    "\n",
    "**Part A:**  Let $A v = \\lambda v$.  Then $v = A^{-1} A v = \\lambda A^{-1} v$.  That is, $A^{-1} v = \\frac{1}{\\lambda} v$.  So, $A$ has the same eigenvectors $v_k$ with eigenvalues $\\frac{1}{\\lambda_k}$.\n",
    "\n",
    "**Part B:**  From Lecture 10, $(A - \\mu I)$ has the same eigenvectors $v_k$ as $A$, with eigenvalues $(\\lambda_k - \\mu)$.  By the previous part, the matrix $(A-\\mu I)^{-1}$ has the same eigenvectors, now with eigenvalues $\\frac{1}{\\lambda_k - \\mu}$."
   ]
  },
  {
   "cell_type": "markdown",
   "metadata": {
    "slideshow": {
     "slide_type": "slide"
    }
   },
   "source": [
    "### Recall:  Inverse Iteration\n",
    "\n",
    "![](images/l15-inverse-iteration-theorem.png)"
   ]
  },
  {
   "cell_type": "markdown",
   "metadata": {
    "slideshow": {
     "slide_type": "slide"
    }
   },
   "source": [
    "### Recall:  Rayleigh Quotient Iteration\n",
    "\n",
    "![](images/l15-rq-schematic.png)"
   ]
  },
  {
   "cell_type": "markdown",
   "metadata": {
    "slideshow": {
     "slide_type": "slide"
    }
   },
   "source": [
    "### Recall:  Rayleigh Quotient Iteration\n",
    "\n",
    "![](images/l15-rq-algorithm.png)"
   ]
  },
  {
   "cell_type": "markdown",
   "metadata": {
    "slideshow": {
     "slide_type": "slide"
    }
   },
   "source": [
    "### Recall:  Rayleigh Quotient Iteration\n",
    "\n",
    "![](images/l15-rq-theorem.png)"
   ]
  },
  {
   "cell_type": "markdown",
   "metadata": {},
   "source": [
    "# Implementation!"
   ]
  },
  {
   "cell_type": "markdown",
   "metadata": {
    "slideshow": {
     "slide_type": "slide"
    }
   },
   "source": [
    "### Implementation\n",
    "\n",
    "Write your own code for power iteration, inverse iteration, Rayleigh quotient iteration, etc.\n",
    "\n",
    "* For a matrix $A$, pretend that the eigenvalues computed by `np.linalg.eig` are exact, and plot/compare the convergence rates for each of your methods.\n",
    "* Compute the ratio $|\\lambda_2 / \\lambda_1|$, and verify the convergence rates in the book.\n",
    "\n",
    "You may find the following helpful:\n",
    "\n",
    "* `np.linalg.eig`, `np.linalg.inv`, `np.linalg.solve`\n",
    "* `np.linalg.qr`, `np.linalg.svd`"
   ]
  },
  {
   "cell_type": "code",
   "execution_count": 6,
   "metadata": {},
   "outputs": [],
   "source": [
    "def power_iteration(A, v0):\n",
    "    \"\"\"\n",
    "    @param A is an mxm symmetric matrix.\n",
    "    @param v0 is the starting vector.\n",
    "    \"\"\"\n",
    "    result = None;\n",
    "    return result;"
   ]
  },
  {
   "cell_type": "code",
   "execution_count": 7,
   "metadata": {},
   "outputs": [],
   "source": [
    "def inverse_iteration(A, v0):\n",
    "    \"\"\"\n",
    "    @param A is an mxm symmetric matrix.\n",
    "    @param v0 is the starting vector.\n",
    "    \"\"\"\n",
    "    result = None;\n",
    "    return result;"
   ]
  },
  {
   "cell_type": "code",
   "execution_count": null,
   "metadata": {},
   "outputs": [],
   "source": [
    "def rq_iteration(A, v0):\n",
    "    \"\"\"\n",
    "    @param A is an mxm symmetric matrix.\n",
    "    @param v0 is the starting vector.\n",
    "    \"\"\"\n",
    "    result = None;\n",
    "    return result;"
   ]
  },
  {
   "cell_type": "markdown",
   "metadata": {
    "slideshow": {
     "slide_type": "slide"
    }
   },
   "source": [
    "### Problem:  Random Matrices\n",
    "\n",
    "When testing numerical algorithms, it's useful to be able to generate random problem instances.  To generate a random matrix with `numpy`, use either\n",
    "* `np.random.rand(m,n)` to generate an $(m \\times n)$ matrix with random entries in $[0,1]$\n",
    "* `np.random.randn(m,n)` to generate an $(m \\times n)$ matrix with normal-distributed entries\n",
    "\n",
    "<div style=\"padding:10px; margin:10px; border: 1px solid black\">\n",
    "<b>Problem:</b> How can you use numpy to generate random matrices of the following types?<br>\n",
    "\n",
    "<b>Part A:</b> Random diagonal matrix?<br>\n",
    "<b>Part B:</b> Random upper-triangular matrix?<br>\n",
    "<b>Part C:</b> Random symmetric matrix?<br>\n",
    "<b>Part D:</b> Random matrix with orthonormal columns? (*Hint:* SVD or QR factorization)<br>\n",
    "<b>Part E:</b> Random symmetric matrix, with prescribed eigenvalues $\\lambda_1, \\lambda_2, \\dots, \\lambda_m \\in \\R$?<br>\n",
    "</div>\n",
    "\n",
    "> *Challenge:* For any of your methods above, how are the eigenvalues of your random matrix distributed?  Write code to check!  Make a scatterplot of the eigenvalues of 10000 random matrices.  Are they biased at all towards one region of space?  Maybe they're more likely to be positive than negative, etc..  How can you control for this?"
   ]
  },
  {
   "cell_type": "markdown",
   "metadata": {},
   "source": [
    "### Eigenvalues of Random Matrices"
   ]
  },
  {
   "cell_type": "code",
   "execution_count": 10,
   "metadata": {},
   "outputs": [
    {
     "data": {
      "text/plain": [
       "Text(0.5,1,'Eigenvalues of Matrix with Random Gaussian Entries')"
      ]
     },
     "execution_count": 10,
     "metadata": {},
     "output_type": "execute_result"
    },
    {
     "data": {
      "image/png": "[encoded data removed]",
      "text/plain": [
       "<Figure size 288x288 with 1 Axes>"
      ]
     },
     "metadata": {},
     "output_type": "display_data"
    }
   ],
   "source": [
    "def plot_goe_eigs(n, num_samples):\n",
    "    eigs = [];\n",
    "    \n",
    "    for k in range(num_samples):\n",
    "        Q = np.random.randn(n,n) / np.sqrt(n);\n",
    "\n",
    "        # compute eigenvalues\n",
    "        eigw,eigV = np.linalg.eig(Q);\n",
    "        eigs += list(eigw);\n",
    "    \n",
    "    eigs = np.array(eigs);\n",
    "    eigx = np.real(eigs);\n",
    "    eigy = np.imag(eigs);\n",
    "    fig, ax = plt.subplots(figsize=(4,4))\n",
    "    plt.scatter(eigx, eigy, marker='x', c='k', s=10);\n",
    "    ax.set_aspect('equal', 'datalim')\n",
    "    \n",
    "plot_goe_eigs(50, 50);\n",
    "plt.title(\"Eigenvalues of Matrix with Random Gaussian Entries\")"
   ]
  }
 ],
 "metadata": {
  "celltoolbar": "Slideshow",
  "kernelspec": {
   "display_name": "Python 3",
   "language": "python",
   "name": "python3"
  },
  "language_info": {
   "codemirror_mode": {
    "name": "ipython",
    "version": 3
   },
   "file_extension": ".py",
   "mimetype": "text/x-python",
   "name": "python",
   "nbconvert_exporter": "python",
   "pygments_lexer": "ipython3",
   "version": "3.7.3"
  }
 },
 "nbformat": 4,
 "nbformat_minor": 4
}
