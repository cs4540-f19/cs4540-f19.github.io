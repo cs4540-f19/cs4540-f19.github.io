{
 "cells": [
  {
   "cell_type": "code",
   "execution_count": 3,
   "metadata": {
    "nbpresent": {
     "id": "c11f7b86-dba3-4e8d-afbf-bd147373e999"
    },
    "slideshow": {
     "slide_type": "slide"
    }
   },
   "outputs": [],
   "source": [
    "%matplotlib inline\n",
    "import numpy as np;\n",
    "import matplotlib\n",
    "import matplotlib.pyplot as plt"
   ]
  },
  {
   "cell_type": "markdown",
   "metadata": {
    "nbpresent": {
     "id": "9707fbb8-a773-42d6-982b-ee1f3c961f53"
    }
   },
   "source": [
    "$\\LaTeX \\text{ commands here}\n",
    "\\newcommand{\\R}{\\mathbb{R}}\n",
    "\\newcommand{\\im}{\\text{im}\\,}\n",
    "\\newcommand{\\norm}[1]{||#1||}\n",
    "\\newcommand{\\inner}[1]{\\langle #1 \\rangle}\n",
    "\\newcommand{\\span}{\\mathrm{span}}\n",
    "\\newcommand{\\proj}{\\mathrm{proj}}\n",
    "\\newcommand{\\OPT}{\\mathrm{OPT}}\n",
    "\\newcommand{\\grad}{\\nabla}\n",
    "\\newcommand{\\eps}{\\varepsilon}\n",
    "$"
   ]
  },
  {
   "cell_type": "markdown",
   "metadata": {
    "nbpresent": {
     "id": "d47522cd-d9c5-4612-87a1-e2c1dfdb40d6"
    },
    "slideshow": {
     "slide_type": "slide"
    }
   },
   "source": [
    "<hr style=\"border: 5px solid black\">\n",
    "\n",
    "**Georgia Tech, CS 4540**\n",
    "\n",
    "# L14: Solving Linear Systems\n",
    "\n",
    "*Thursday, November 7, 2019*"
   ]
  },
  {
   "cell_type": "markdown",
   "metadata": {
    "slideshow": {
     "slide_type": "slide"
    }
   },
   "source": [
    "### Linear Systems\n",
    "\n",
    "Given $A \\in \\R^{m \\times n}$ and $b \\in \\R^{m}$, want to compute $x \\in \\R^{n}$ such that $Ax = b$.\n",
    "\n",
    "* There are $m$ linear equations and $n$ unknowns\n",
    "* If $m > n$, the system is *overdetermined*\n",
    "* If $m < n$, the system is *underdetermined*\n",
    "* If $m = n$ and $A$ is invertible, we want $x = A^{-1} b$\n",
    "\n",
    "For now, we will focus on **square matrices** $A \\in \\R^{m \\times m}$, which we also assume to be invertible."
   ]
  },
  {
   "cell_type": "markdown",
   "metadata": {
    "slideshow": {
     "slide_type": "slide"
    }
   },
   "source": [
    "### Numerical Methods\n",
    "\n",
    "You already know of a few algorithms for solving linear systems...\n",
    "\n",
    "* **Gradient Descent** on the quadratic $f(x) = \\frac{1}{2} x^T A x - b^T x$\n",
    "    $$\n",
    "    x_{t+1} = x_t - \\eta (\\nabla_{x_t} f) = x_t - \\eta (A x_t - b)\n",
    "    $$\n",
    "* **Gaussian Elimination** from your intro linear algebra class\n",
    "    * elementary row operations, reduced row-echelon form...\n",
    "    * this method is *numerically unstable* without additional modifications\n",
    "    * see Trefethen & Bau, *Numerical Linear Algebra* §20-21"
   ]
  },
  {
   "cell_type": "markdown",
   "metadata": {
    "nbpresent": {
     "id": "68ff68eb-e4c1-4e9d-8e8b-52d509bb70c1"
    },
    "slideshow": {
     "slide_type": "slide"
    }
   },
   "source": [
    "### Problem:  Simple Linear Systems\n",
    "\n",
    "<div style=\"padding:10px;margin:10px;border:1px solid black\">\n",
    "<b>Part A:</b> Solve the diagonal linear system below.  How many operations are required?  Assume all diagonal entries are nonzero.\n",
    "    $$\n",
    "    \\begin{bmatrix} \n",
    "    a_{11} &  &        &                 \\\\\n",
    "            & a_{22}   &        &        \\\\\n",
    "            &        & \\ddots &          \\\\\n",
    "            &        &        & a_{mm}\n",
    "    \\end{bmatrix}\n",
    "    \\begin{bmatrix} x_1 \\\\ x_2 \\\\ \\vdots \\\\ x_m \\end{bmatrix}\n",
    "    =\n",
    "    \\begin{bmatrix} b_1 \\\\ b_2 \\\\ \\vdots \\\\ b_m \\end{bmatrix}\n",
    "    $$\n",
    "</div>\n",
    "<div style=\"padding:10px;margin:10px;border:1px solid black\">\n",
    "<b>Part B:</b> Solve the upper-triangular linear system below.  How many operations are required?  Assume all diagonal entries are nonzero.\n",
    "    $$\n",
    "    \\begin{bmatrix} \n",
    "    a_{11}  & a_{12} & \\cdots & a_{1m} \\\\\n",
    "            & a_{22} & \\cdots & a_{2m} \\\\\n",
    "            &        & \\ddots & \\vdots       \\\\\n",
    "            &        &        & a_{mm}\n",
    "    \\end{bmatrix}\n",
    "    \\begin{bmatrix} x_1 \\\\ x_2 \\\\ \\vdots \\\\ x_m \\end{bmatrix}\n",
    "    =\n",
    "    \\begin{bmatrix} b_1 \\\\ b_2 \\\\ \\vdots \\\\ b_m \\end{bmatrix}\n",
    "    $$\n",
    "</div>"
   ]
  },
  {
   "cell_type": "markdown",
   "metadata": {
    "slideshow": {
     "slide_type": "slide"
    }
   },
   "source": [
    "### Solution\n",
    "\n",
    "**Part A:** Set $x_k = \\frac{b_k}{a_{kk}}$.  Requires $O(m)$ operations.\n",
    "\n",
    "**Part B:** Use \"back substitution\", requiring $O(m^2)$ operations.  Starting with $x_m = b_m / a_{mm}$, the next equation from the bottom gives\n",
    "    $$\n",
    "    a_{m-1,m-1} x_{m-1} + a_{m-1,m} x_m = b_{m-1} \\\\\n",
    "    \\implies\n",
    "    x_{m-1} = (b_{m-1} - a_{m-1,m} x_m) / a_{m-1,m-1}\n",
    "    $$\n",
    "Continuing in this fashion, we find\n",
    "    $$\n",
    "    x_j = \\frac{1}{a_{jj}} \\left( b_j - \\sum_{k=j+1}^m x_k a_{jk} \\right)\n",
    "    $$"
   ]
  },
  {
   "cell_type": "markdown",
   "metadata": {
    "slideshow": {
     "slide_type": "slide"
    }
   },
   "source": [
    "### Stationary Iterative Methods\n",
    "\n",
    "The idea is to approximate $A^{-1}$ by splitting $A = M - N$ into two parts,\n",
    "* $M \\in \\R^{m \\times m}$ which is nonsingular and computationally cheap to invert\n",
    "* $N \\in \\R^{m \\times m}$ which is harder to work with\n",
    "\n",
    "For example, splitting $A = D + L + U$ into the diagonal, strictly-upper-triangular, and strictly-lower-triangular parts respectively,\n",
    "\n",
    "* **Jacobi:**  Choose $M = D$ and $N = -(U+L)$\n",
    "* **Gauss-Seidel:** Choose $M = D+L$ and $N = -U$\n",
    "* **Damped Jacobi:** Choose $M = \\frac{1}{\\omega} D$ for some $\\omega > 0$"
   ]
  },
  {
   "cell_type": "markdown",
   "metadata": {
    "slideshow": {
     "slide_type": "slide"
    }
   },
   "source": [
    "### Stationary Iterative Methods\n",
    "\n",
    "Let $x^* \\in \\R^m$ be the exact solution to $A x^* = b$.  Then\n",
    "    $$\n",
    "    \\begin{align}\n",
    "    Ax^* = (M-N)x^* &= b \\\\\n",
    "    Mx^* &= Nx^* + b \\\\\n",
    "     x^* &= M^{-1}(Nx^* + b)\n",
    "    \\end{align}\n",
    "    $$\n",
    "    \n",
    "Therefore, $x^*$ is a fixed point of $\\Phi(x) = M^{-1}(Nx + b)$.  We'll try to use **fixed point iteration** to approximate $x^*$:\n",
    "\n",
    "$$\n",
    "x_{n+1} = \\Phi(x_n) = M^{-1}(Nx + b)\n",
    "$$"
   ]
  },
  {
   "cell_type": "markdown",
   "metadata": {
    "slideshow": {
     "slide_type": "slide"
    }
   },
   "source": [
    "### Problem:  Spectral Radius\n",
    "\n",
    "Want to solve: $Ax = b$. Fixed point iteration: split $A = M - N$, where $M$ is easy-to-invert, $N$ is aribtrary. The **fixed point iteration** tries to find approximate $x^*$ via update:\n",
    "$$\n",
    "x_{t+1} = \\Phi(x_t) = M^{-1}(Nx_t + b)\n",
    "$$\n",
    "\n",
    "Recall that the *spectral radius* of a matrix $M$ is $\\rho(M) := \\max\\{|\\lambda_1(M)|, \\ldots, |\\lambda_n(M)|\\}$.\n",
    "\n",
    "**(Part A)**: Show that if $\\rho(M^{-1} N) > 1$, then the fixed point scheme above diverges for some initial $x_0$. \n",
    "\n",
    "*Hint*: assume that $b = 0$, and consider the largest eigenvector of $M^{-1}N$.\n"
   ]
  },
  {
   "cell_type": "markdown",
   "metadata": {
    "slideshow": {
     "slide_type": "slide"
    }
   },
   "source": [
    "#### Solution\n",
    "\n",
    "Let $x_0 = v$ be an eigenvector for $M^{-1}N$ whose eigenvalue $\\lambda$'s absolute value is larger than 1. If we assume that $b = 0$, then fixed point iteration is going to generate the point $x_t = (M^{-1}N)^t x_0 = \\lambda^t x_0$. The former clearly diverges!"
   ]
  },
  {
   "cell_type": "markdown",
   "metadata": {
    "slideshow": {
     "slide_type": "slide"
    }
   },
   "source": [
    "### Problem: Spectral Radius\n",
    "\n",
    "Want to solve: $Ax = b$. Fixed point iteration: split $A = M - N$, where $M$ is easy-to-invert, $N$ is aribtrary. The **fixed point iteration** tries to find approximate $x^*$ via update:\n",
    "$$\n",
    "x_{t+1} = \\Phi(x_t) = M^{-1}(Nx_t + b)\n",
    "$$\n",
    "\n",
    "Recall that the *spectral radius* of a matrix $M$ is $\\rho(M) := \\max\\{|\\lambda_1(M)|, \\ldots, |\\lambda_n(M)|\\}$.\n",
    "\n",
    "**(Part B)**: Show that if $\\rho(M^{-1} N) < 1$, the fixed point scheme above converges to the solution $x$ for any initial $x_0$.\n",
    "\n",
    "*Hint*: Let's say $x^*$ satisfies the linear system, $Ax^* = b$. You want to look at how the error terms $\\text{err}_t := x_t - x^*$ evolve after each iteration. Can you show $\\|\\text{err}_t\\|$ is shrinking from round to round?"
   ]
  },
  {
   "cell_type": "markdown",
   "metadata": {
    "slideshow": {
     "slide_type": "slide"
    }
   },
   "source": [
    "#### Solution\n",
    "\n",
    "If you consider the error term $\\text{err}_t := x_t - x^*$, then it is easy to check that\n",
    "$$\\text{err}_{t+1} = (M^{-1}N) \\text{err}_t$$\n",
    "Now let us see what happens to the norm of $\\|\\text{err}_{t+1}\\|$:\n",
    "$$\\|\\text{err}_{t+1}\\| = \\|(M^{-1}N) \\text{err}_t\\| = \\|\\text{err}_t\\| \\|(M^{-1}N) \\frac{\\text{err}_t}{\\|\\text{err}_t\\|}\\| \\leq \\|\\text{err}_t\\| \\max_{\\|z\\| = 1} \\|M^{-1}N z\\|$$\n",
    "However, $\\max_{\\|z\\| = 1} \\|M^{-1}N z\\|$ is indeed the spectral radius $\\rho(M^{-1}N)$, hence we have shown that\n",
    "$$\n",
    "\\|\\text{err}_{t+1}\\| \\leq \\|\\text{err}_t\\| \\rho(M^{-1}N),\n",
    "$$\n",
    "which implies that the error term is always shrinking at a geometric rate!"
   ]
  },
  {
   "cell_type": "markdown",
   "metadata": {
    "slideshow": {
     "slide_type": "slide"
    }
   },
   "source": [
    "### Problem:  Diagonal Dominance\n",
    "\n",
    "A matrix $A \\in \\R^{m \\times m}$ is **strictly diagonally dominant** if within every row, the diagonal entry is larger in absolute value than than the sum of the absolute values of the other terms,\n",
    "\n",
    "$$\n",
    "|a_{ii}| > \\sum_{j \\neq i} |a_{ij}|\n",
    "$$\n",
    "\n",
    "<div style=\"padding:10px; margin:10px; style:1px solid black\">\n",
    "<b>Problem:</b> Prove that Jacobi's method converges for any strictly diagonally dominant matrix.\n",
    "</div>\n",
    "\n",
    "> *Hint:* Use the Gershgorin Circle Theorem, which states that every eigenvalue of $A$ lies within at least one of the discs $D(a_{ii}, R_i) \\subset \\mathbb{C}$ of radius $R_i=\\sum_{j\\neq i} |a_{ij}|$ centered at $a_{ii}$ in the complex plane."
   ]
  },
  {
   "cell_type": "markdown",
   "metadata": {},
   "source": [
    "### Implementation:  Laplace Equation\n",
    "\n",
    "Solve the system $Au = 0$ where $A$ has the form:"
   ]
  },
  {
   "cell_type": "code",
   "execution_count": 165,
   "metadata": {},
   "outputs": [],
   "source": [
    "def poisson_matrix(n):\n",
    "    # tridiagonal matrix\n",
    "    result  = -2 * np.eye(n);\n",
    "    result += np.diag(np.ones(n-1), -1);\n",
    "    result += np.diag(np.ones(n-1), +1);\n",
    "    return result;"
   ]
  },
  {
   "cell_type": "code",
   "execution_count": 166,
   "metadata": {},
   "outputs": [
    {
     "data": {
      "text/plain": [
       "array([[-2.,  1.,  0.,  0.,  0.],\n",
       "       [ 1., -2.,  1.,  0.,  0.],\n",
       "       [ 0.,  1., -2.,  1.,  0.],\n",
       "       [ 0.,  0.,  1., -2.,  1.],\n",
       "       [ 0.,  0.,  0.,  1., -2.]])"
      ]
     },
     "execution_count": 166,
     "metadata": {},
     "output_type": "execute_result"
    }
   ],
   "source": [
    "poisson_matrix(5)"
   ]
  },
  {
   "cell_type": "code",
   "execution_count": 170,
   "metadata": {},
   "outputs": [
    {
     "ename": "SyntaxError",
     "evalue": "invalid syntax (<ipython-input-170-3419913a410a>, line 5)",
     "output_type": "error",
     "traceback": [
      "\u001b[0;36m  File \u001b[0;32m\"<ipython-input-170-3419913a410a>\"\u001b[0;36m, line \u001b[0;32m5\u001b[0m\n\u001b[0;31m    x = # FILL IN!!\u001b[0m\n\u001b[0m                   ^\u001b[0m\n\u001b[0;31mSyntaxError\u001b[0m\u001b[0;31m:\u001b[0m invalid syntax\n"
     ]
    }
   ],
   "source": [
    "def jacobi(A, b, x0, max_iter=100):\n",
    "    x = np.copy(x0);\n",
    "    \n",
    "    for k in range(max_iter):\n",
    "        x = # FILL IN!!\n",
    "    \n",
    "    return x;"
   ]
  },
  {
   "cell_type": "code",
   "execution_count": 168,
   "metadata": {
    "slideshow": {
     "slide_type": "slide"
    }
   },
   "outputs": [
    {
     "data": {
      "text/plain": [
       "[<matplotlib.lines.Line2D at 0x7ffbb31ff080>]"
      ]
     },
     "execution_count": 168,
     "metadata": {},
     "output_type": "execute_result"
    },
    {
     "data": {
      "image/png": "[encoded data removed]",
      "text/plain": [
       "<Figure size 432x288 with 1 Axes>"
      ]
     },
     "metadata": {},
     "output_type": "display_data"
    }
   ],
   "source": [
    "n = 100\n",
    "A = poisson_matrix(n);\n",
    "\n",
    "# sinusoidal error\n",
    "k = 2;\n",
    "x = np.linspace(0, 1, n);\n",
    "u0 = np.sin(2*np.pi*x * k)\n",
    "plt.plot(x,u0)"
   ]
  },
  {
   "cell_type": "code",
   "execution_count": 169,
   "metadata": {
    "slideshow": {
     "slide_type": "slide"
    }
   },
   "outputs": [
    {
     "data": {
      "text/plain": [
       "<matplotlib.legend.Legend at 0x7ffbb323c358>"
      ]
     },
     "execution_count": 169,
     "metadata": {},
     "output_type": "execute_result"
    },
    {
     "data": {
      "image/png": "[encoded data removed]",
      "text/plain": [
       "<Figure size 432x288 with 1 Axes>"
      ]
     },
     "metadata": {},
     "output_type": "display_data"
    }
   ],
   "source": [
    "u_jacobi = jacobi(A, np.zeros(n), u0, max_iter=10)\n",
    "plt.plot(np.arange(n), u0, label=\"initial\")\n",
    "plt.plot(np.arange(n), u_jacobi, label=\"jacobi\")\n",
    "plt.legend()"
   ]
  },
  {
   "cell_type": "code",
   "execution_count": null,
   "metadata": {},
   "outputs": [],
   "source": []
  }
 ],
 "metadata": {
  "celltoolbar": "Slideshow",
  "kernelspec": {
   "display_name": "Python 3",
   "language": "python",
   "name": "python3"
  },
  "language_info": {
   "codemirror_mode": {
    "name": "ipython",
    "version": 3
   },
   "file_extension": ".py",
   "mimetype": "text/x-python",
   "name": "python",
   "nbconvert_exporter": "python",
   "pygments_lexer": "ipython3",
   "version": "3.7.3"
  }
 },
 "nbformat": 4,
 "nbformat_minor": 4
}
