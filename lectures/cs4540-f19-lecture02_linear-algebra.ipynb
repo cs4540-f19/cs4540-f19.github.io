{
 "cells": [
  {
   "cell_type": "code",
   "execution_count": 1,
   "metadata": {},
   "outputs": [],
   "source": [
    "%matplotlib inline\n",
    "import numpy as np;\n",
    "from matplotlib import pyplot as plt"
   ]
  },
  {
   "cell_type": "markdown",
   "metadata": {},
   "source": [
    "$\\LaTeX \\text{ commands here}\n",
    "\\newcommand{\\R}{\\mathbb{R}}\n",
    "\\newcommand{\\im}{\\text{im}\\,}\n",
    "\\newcommand{\\norm}[1]{||#1||}\n",
    "\\newcommand{\\inner}[1]{\\langle #1 \\rangle}\n",
    "\\newcommand{\\span}{\\mathrm{span}}\n",
    "\\newcommand{\\proj}{\\mathrm{proj}}\n",
    "$"
   ]
  },
  {
   "cell_type": "markdown",
   "metadata": {
    "nbpresent": {
     "id": "0d550dc6-b222-4f90-8a5a-8fc373b860e9"
    },
    "slideshow": {
     "slide_type": "slide"
    }
   },
   "source": [
    "<hr style=\"border: 5px solid black\">\n",
    "\n",
    "**Georgia Tech, CS 4540**\n",
    "\n",
    "# L2:  Numpy & Linear Algebra\n",
    "\n",
    "Jacob Abernethy\n",
    "\n",
    "*Thursday, August 22, 2019*"
   ]
  },
  {
   "cell_type": "markdown",
   "metadata": {
    "nbpresent": {
     "id": "a69ec655-4bfe-4a3f-9d26-9965eceb71df"
    },
    "slideshow": {
     "slide_type": "slide"
    }
   },
   "source": [
    "### Outline\n",
    "\n",
    "1. Review of Linear Algebra\n",
    "    * Independence, span, and bases\n",
    "    * Matrix Multiplication\n",
    "    * Orthogonality & Projections\n",
    "    * QR Factorization\n",
    "2. Random Matrices"
   ]
  },
  {
   "cell_type": "markdown",
   "metadata": {
    "slideshow": {
     "slide_type": "slide"
    }
   },
   "source": [
    "### Linear Algebra Resources\n",
    "\n",
    "* **Videos:** 3blue1brown, [Essence of Linear Algebra](https://www.youtube.com/playlist?list=PLZHQObOWTQDPD3MizzM2xVFitgF8hE_ab) videos\n",
    "* **Book:** Sheldon Axler, \"*Linear Algebra Done Right*\"\n"
   ]
  },
  {
   "cell_type": "markdown",
   "metadata": {
    "nbpresent": {
     "id": "6c33627a-8a43-4349-bf5e-9097b0e286f7"
    },
    "slideshow": {
     "slide_type": "slide"
    }
   },
   "source": [
    "## Review:  Independence, Bases, Span"
   ]
  },
  {
   "cell_type": "markdown",
   "metadata": {
    "slideshow": {
     "slide_type": "slide"
    }
   },
   "source": [
    "### Def:  Linear Combinations and Span\n",
    "\n",
    "A **linear combination** of the vectors $x_1, \\dots, x_n \\in \\R^m$ with coefficients $\\alpha_1, \\dots, \\alpha_n \\in \\R$ is\n",
    "    $$\n",
    "    \\alpha_1 x_1 + \\cdots + \\alpha_n x _n \\in \\R^m\n",
    "    $$\n",
    "The **span** of a set $S \\subset \\R^m$ of vectors is the subspace containing all (finite) linear combinations of elements from $S$,\n",
    "    $$\n",
    "    \\mathrm{span}(S) = \\left\\{ \\sum_{k=1}^n \\alpha_k x_k \\;\\Bigg\\vert\\; x_k, \\dots, x_n \\in S, \\alpha_k \\in \\R, n \\in \\mathbb{N} \\right\\} \\subset \\R^m\n",
    "    $$"
   ]
  },
  {
   "cell_type": "markdown",
   "metadata": {
    "slideshow": {
     "slide_type": "slide"
    }
   },
   "source": [
    "### Def:  Independence\n",
    "\n",
    "Vectors $x_1, \\dots, x_n \\in \\R^m$ are  **linearly dependent** if one of the vectors can be written as a (nontrivial) linear combination of the others, that is, there exist coefficients $\\alpha_1, \\dots, \\alpha_n \\in \\R$ not all zero, such that\n",
    "$$\n",
    "\\alpha_1 x_1 + \\cdots + \\alpha_n x_n = 0\n",
    "$$\n",
    "Otherwise, the vectors are **linearly independent**."
   ]
  },
  {
   "cell_type": "markdown",
   "metadata": {
    "slideshow": {
     "slide_type": "slide"
    }
   },
   "source": [
    "### Def:  Vector Space Basis\n",
    "\n",
    "Independent vectors $x_1, \\dots, x_n \\in V$ form a **basis** for $V$ if their span is all of $V$,\n",
    "$$\n",
    "\\mathrm{span}\\{ x_1, \\dots, x_n \\} = V\n",
    "$$\n",
    "\n",
    "Here are some facts that you should prove for yourself:\n",
    "\n",
    "* Every vector $x \\in V$ has a unique expansion as a linear combination of basis vectors.\n",
    "* Every basis for $V$ has the same number of elements.  This number is the **dimension**.\n",
    "* If $\\mathrm{dim}(V)=n$, then every set of $n+1$ vectors is linearly dependent.\n",
    "* Every set of vectors $x_1,\\dots,x_r \\in V$ with $r < n$ can be extended to a basis $\\mathcal{B} = \\{ x_1, \\dots, x_r, w_{r+1}, \\dots, w_n \\}$ for $V$."
   ]
  },
  {
   "cell_type": "markdown",
   "metadata": {
    "nbpresent": {
     "id": "4da46af5-389b-422f-8723-2240bcb5e5cc"
    },
    "slideshow": {
     "slide_type": "slide"
    }
   },
   "source": [
    "## Review:  Matrix Multiplication\n",
    "\n",
    "> **Key Idea:**  Think of matrix operations in terms of row- and column-vectors, rather than in terms of individual entries.\n",
    "\n",
    "<div style=\"font-size: 10px; float: right\">\n",
    "This section borrows heavily from the first chapter of Trefethen & Bau, <a href=\"http://bookstore.siam.org/ot50/\">\"Numerical Linear Algebra\"</a>.\n",
    "</div>"
   ]
  },
  {
   "cell_type": "markdown",
   "metadata": {
    "nbpresent": {
     "id": "951424a9-7339-4487-bff2-66c64595ea34"
    },
    "slideshow": {
     "slide_type": "slide"
    }
   },
   "source": [
    "### Matrix-Vector Multiplication (Row View)\n",
    "\n",
    "Recall the following definition of matrix multiplication:\n",
    "\n",
    "> If $x \\in \\mathbb{R}^n$ and $A \\in \\mathbb{R}^{m \\times n}$, then the $i$th entry of $b = Ax \\in \\mathbb{R}^m$ is:\n",
    "\n",
    "$$\n",
    "b_i = \\sum_{j=1}^n a_{ij} x_j \\quad (i = 1,\\dots,m)\n",
    "$$\n",
    "\n",
    "In other words, $b$ is a dot product between $x$ and the rows of $A$. If you think of $A$ as data matrix, it is useful to keep in mind the following interpretation:\n",
    "<div style=\"margin: 20px; border: 1px solid black; padding: 20px; text-align:center\">\n",
    "Each <i>row</i> of $A$ is \"scored\" based on how well it aligns with the vector $x$.\n",
    "</div>"
   ]
  },
  {
   "cell_type": "markdown",
   "metadata": {
    "nbpresent": {
     "id": "2b797236-c6a7-4860-b27b-ca4d8f381607"
    },
    "slideshow": {
     "slide_type": "slide"
    }
   },
   "source": [
    "### Matrix-Vector Multiplication (Column View)\n",
    "\n",
    "An alternative interpretation that comes handy when you want to study the subspaces of matrix is:\n",
    "<div style=\"margin: 20px; border: 1px solid black; padding: 20px; text-align:center\">\n",
    "If $b = Ax$, then $b$ is a linear combination of the <i>columns</i> of $A$, with coefficients from the vector $x$.\n",
    "</div>\n",
    "\n",
    "![Matrix-Vector Multiplication](images/matrix-vector-1.png)"
   ]
  },
  {
   "cell_type": "markdown",
   "metadata": {
    "slideshow": {
     "slide_type": "slide"
    }
   },
   "source": [
    "### Problem 1:  Image and Kernel\n",
    "\n",
    "Recall that the **range** or **image** of $A \\in \\R^{m \\times n}$ is the set of vectors $y \\in \\R^m$ that can be written as $y = Ax$ for some $x \\in \\R^n$,\n",
    "\n",
    "$$\n",
    "\\im A = \\{ y \\in \\R^m \\mid \\exists x \\in \\R^n, y = Ax \\}\n",
    "$$\n",
    "\n",
    "<div style=\"padding:20px;margin:20px;border: 1px solid black\">\n",
    "<b>Problem 1:</b>  Argue that $\\im A$ is the space spanned by the columns of $A$.\n",
    "</div>\n",
    "\n",
    "> *Hint:*  Use the \"column view\" of matrix-vector multiplication!"
   ]
  },
  {
   "cell_type": "markdown",
   "metadata": {
    "slideshow": {
     "slide_type": "slide"
    }
   },
   "source": [
    "### Solution 1:  Image and Kernel\n",
    "\n",
    "<div style=\"padding:20px;margin:20px;border: 1px solid black\">\n",
    "<b>Problem 1:</b>  Argue that $\\im A$ is the space spanned by the columns of $A$.\n",
    "</div>\n",
    "\n",
    "It helps to rewrite the image as $\\im A = \\{ Ax \\mid x \\in \\R^n \\}$.  Since $Ax$ is a linear combination of the columns $a_1, \\dots, a_n \\in \\R^n$ of $A$ with coefficients from $x$, clearly $\\im A = \\mathrm{span}\\{ a_1, \\dots, a_n \\}$."
   ]
  },
  {
   "cell_type": "markdown",
   "metadata": {
    "nbpresent": {
     "id": "6f147f30-1ba3-4e9f-9653-e13a4257df6c"
    },
    "slideshow": {
     "slide_type": "slide"
    }
   },
   "source": [
    "### Matrix-Matrix Multiplication\n",
    "\n",
    "<div style=\"margin: 20px; border: 1px solid black; padding: 20px; text-align:center\">\n",
    "If $B = AC$, then <em>each column of $B$ is a linear combination of the columns of $A$</em> with coefficients from the columns of $C$.\n",
    "</div>\n",
    "\n",
    "![Matrix-Matrix Multiplication](images/matrix-matrix-1.png)"
   ]
  },
  {
   "cell_type": "markdown",
   "metadata": {
    "slideshow": {
     "slide_type": "slide"
    }
   },
   "source": [
    "## Let's try this in numpy!"
   ]
  },
  {
   "cell_type": "code",
   "execution_count": 26,
   "metadata": {
    "slideshow": {
     "slide_type": "-"
    }
   },
   "outputs": [
    {
     "name": "stdout",
     "output_type": "stream",
     "text": [
      "A= [[4 4 2]\n",
      " [4 4 6]]\n",
      "C= [[6 0]\n",
      " [7 4]\n",
      " [5 1]]\n",
      "B= [[62 18]\n",
      " [82 22]]\n",
      "alsoB= [[62. 18.]\n",
      " [82. 22.]]\n"
     ]
    }
   ],
   "source": [
    "A = np.random.randint(0,10,size=(2,3))\n",
    "C = np.random.randint(0,10,size=(3,2))\n",
    "B = A @ C\n",
    "alsoB = np.zeros((2,2))\n",
    "for i in range(2):\n",
    "    alsoB[:,i] = A @ C[:,i]\n",
    "print(\"A=\",A)\n",
    "print(\"C=\",C)\n",
    "print(\"B=\",B)\n",
    "print(\"alsoB=\",alsoB)\n"
   ]
  },
  {
   "cell_type": "code",
   "execution_count": 7,
   "metadata": {
    "slideshow": {
     "slide_type": "skip"
    }
   },
   "outputs": [
    {
     "name": "stdout",
     "output_type": "stream",
     "text": [
      "A= [[2 2 3]\n",
      " [8 5 3]]\n",
      "B= [[4 2]\n",
      " [8 9]\n",
      " [7 5]]\n",
      "C= [[45 37]\n",
      " [93 76]]\n",
      "alsoC= [[45. 37.]\n",
      " [93. 76.]]\n"
     ]
    }
   ],
   "source": [
    "A = np.random.randint(0,10,size=(2,3))\n",
    "B = np.random.randint(0,10,size=(3,2))\n",
    "C = A @ B\n",
    "alsoC = np.zeros((2,2))\n",
    "for i in range(2):\n",
    "    alsoC[:,i] = A @ B[:,i]\n",
    "print(\"A=\",A)\n",
    "print(\"B=\",B)\n",
    "print(\"C=\",C)\n",
    "print(\"alsoC=\",alsoC)\n",
    "# print((A,B,C,alsoC))"
   ]
  },
  {
   "cell_type": "markdown",
   "metadata": {
    "nbpresent": {
     "id": "ece64073-7cf1-4495-bfe4-337f1fa42390"
    },
    "slideshow": {
     "slide_type": "slide"
    }
   },
   "source": [
    "### Problem 2:  Multiplication by Triangular Matrix\n",
    "\n",
    "<div style=\"margin: 20px; border: 1px solid black; padding: 20px; text-align:center\">\n",
    "<b>Problem 2:</b>  Consider $B = AR$, where $R$ an upper-triangular matrix with entires all equal to one on and above the diagonal.  Interpret the columns of $B$ using our new interpretation of matrix multiplication.\n",
    "</div>\n",
    "\n",
    "![Triangular matrix multiplication](images/matrix-triangular-1.png)"
   ]
  },
  {
   "cell_type": "markdown",
   "metadata": {
    "nbpresent": {
     "id": "526a6929-1493-4efb-9580-8d532f1b1733"
    },
    "slideshow": {
     "slide_type": "slide"
    }
   },
   "source": [
    "### Solution 2:  Multiplication by Triangular Matrix\n",
    "\n",
    "<div style=\"margin: 20px; border: 1px solid black; padding: 20px; text-align:center\">\n",
    "<b>Problem 2:</b>  Consider $B = AR$, where $R$ an upper-triangular matrix with entires all equal to one on and above the diagonal.  Interpret the columns of $B$ using our new interpretation of matrix multiplication.\n",
    "</div>\n",
    "\n",
    "Since $B=AR$, the columns of $B$ are linear combinations of the columns of $A$, with coefficients taken from the columns of $R$.  Because of the diagonal structure of $R$, the $j$th column of $B$ is the sum of the first $j$ columns of $A$:\n",
    "\n",
    "$$\n",
    "b_j = A r_j = \\sum_{k=1}^j a_j\n",
    "$$"
   ]
  },
  {
   "cell_type": "markdown",
   "metadata": {
    "nbpresent": {
     "id": "d70290b6-b579-4460-9035-1657b31857a4"
    },
    "slideshow": {
     "slide_type": "slide"
    }
   },
   "source": [
    "### Conclusion:  Matrix Multiplication\n",
    "\n",
    "> If you hadn't seen these interpretations before, they may seem a little strange.  Keep at it!  Thinking about linear algebra in this way will help a lot in the long run."
   ]
  },
  {
   "cell_type": "markdown",
   "metadata": {
    "slideshow": {
     "slide_type": "slide"
    }
   },
   "source": [
    "## Review:  Norms and Inner Products"
   ]
  },
  {
   "cell_type": "markdown",
   "metadata": {
    "slideshow": {
     "slide_type": "slide"
    }
   },
   "source": [
    "### Def:  Norm\n",
    "\n",
    "A norm $\\norm{\\cdot} : V \\rightarrow \\R$ on a vector space $V$ satisfies\n",
    "* $\\norm{v} \\geq 0$ for all $v \\in V$ and $\\norm{v} = 0 \\iff v = 0$\n",
    "* (Homogeneity) $\\norm{ \\alpha v } = | \\alpha | \\norm{v}$\n",
    "* (Triangle Inequality) $\\norm{v + w} \\leq \\norm{v} + \\norm{w}$\n",
    "\n",
    "Examples of norms include:\n",
    "* $\\norm{x}_2 = \\sqrt{x_1^2 + \\cdots + x_n^2} = \\sqrt{x^T x}$\n",
    "* $\\norm{x}_1 = |x_1| + \\cdots + |x_n|$\n",
    "* $\\norm{x}_\\infty = \\max_k |x_k|$"
   ]
  },
  {
   "cell_type": "markdown",
   "metadata": {
    "slideshow": {
     "slide_type": "slide"
    }
   },
   "source": [
    "### Def:  Inner Product\n",
    "\n",
    "A real-valued inner product $\\inner{\\cdot, \\cdot} : V \\times V \\rightarrow \\R$ satisfies\n",
    "\n",
    "* (positive-definite) $\\inner{x,x} \\geq 0$ and $\\inner{x,x} = 0 \\iff x = 0$\n",
    "* (symmetry) $\\inner{x,y} = \\inner{y,x}$\n",
    "* (linearity) $\\inner{\\alpha x + y, z} = \\alpha \\inner{x,z} + \\inner{y,z}$\n",
    "\n",
    "The standard inner product on $\\R^n$ is $\\inner{x,y} = y^T x$.  Notice $\\inner{x,x} = x^T x = \\norm{x}_2^2$."
   ]
  },
  {
   "cell_type": "markdown",
   "metadata": {
    "slideshow": {
     "slide_type": "slide"
    }
   },
   "source": [
    "### Problem 3:  Orthogonal implies Independent\n",
    "\n",
    "Recall that nonzero vectors $x, y \\in \\R^m$ are **orthogonal** if $\\inner{x,y} = 0$.  A set of nonzero vectors is **orthogonal** if every pair is orthogonal.\n",
    "\n",
    "<div style=\"padding:20px;margin:20px;border:1px solid black\">\n",
    "<b>Problem 3:</b> If $x_1, \\dots, x_n \\in \\R^m$ are mutually orthogonal, then they are linearly independent.\n",
    "</div>\n",
    "    \n",
    "> *Hint:* Try proof by contradiction."
   ]
  },
  {
   "cell_type": "markdown",
   "metadata": {
    "slideshow": {
     "slide_type": "slide"
    }
   },
   "source": [
    "### Solution 3:  Orthogonal Implies Independent\n",
    "\n",
    "<div style=\"padding:20px;margin:20px;border:1px solid black\">\n",
    "<b>Problem 3:</b> If $x_1, \\dots, x_n \\in \\R^m$ are non-zero mutually-orthogonal vectors, then they are linearly independent.\n",
    "</div>\n",
    "\n",
    "Suppose the vectors in $S$ are dependent, that is, some vector $x_k$ can be expressed as a linear combination of the others, $x_k = \\sum_{j \\neq k}^n \\alpha_j x_j$ for some coefficients $\\alpha_j \\in \\R$ not all zero.  Then,\n",
    "\n",
    "$$\n",
    "\\inner{v_k, v_k} = \\inner{v_k, \\sum_{j \\neq k} \\alpha_j v_j} = \\sum_{j \\neq k} \\alpha_k \\inner{v_k, v_j} = 0\n",
    "$$\n",
    "\n",
    "But $v_k \\neq 0$ so $\\inner{v_k, v_k} = \\norm{v_k} > 0$, a contradiction!"
   ]
  },
  {
   "cell_type": "markdown",
   "metadata": {
    "slideshow": {
     "slide_type": "slide"
    }
   },
   "source": [
    "### Def:  Orthonormal Basis\n",
    "\n",
    "An **orthonormal basis** is a set of vectors $q_1, \\dots q_m \\in \\R^m$ such that\n",
    "* $\\{ q_1, \\dots, q_m \\}$ is a basis for $\\R^m$\n",
    "* Basis vectors are orthogonal, $\\inner{q_i, q_j} = 0$ when $i \\neq j$.\n",
    "* Basis vectors have unit length, $\\norm{q_j} = 1$ for all $j$\n",
    "\n",
    "The coordinate expansion of $x \\in \\R^m$ is $x = \\sum_{k=1}^m \\inner{x, q_j} q_j$.\n",
    "\n",
    "In other words, $\\inner{x, q_j}$ is the *coefficient* on the basis vector $q_j$."
   ]
  },
  {
   "cell_type": "markdown",
   "metadata": {
    "slideshow": {
     "slide_type": "slide"
    }
   },
   "source": [
    "### Problem 4:  Orthogonal Projections\n",
    "\n",
    "> Caution:  Not the same \"orthogonal\" as in \"orthonormal basis\"!\n",
    "\n",
    "<div style=\"padding:20px; margin:20px; border: 1px solid black\">\n",
    "<b>Problem 4A:</b> Given a (unit) vector $q \\in \\R^m$, what is the transformation $Px = \\mathrm{proj}_q(x)$ that projects $x$ onto $q$?  That is, onto $\\span\\{q\\}$? *Note*: the transformation $P$ can be written as a <i>matrix</i>!\n",
    "\n",
    "<b>Problem 4B:</b> Given orthonormal vectors $q_1, \\dots, q_r \\in \\R^m$, what is the matrix transformation that projects $x$ onto $\\span\\{q_1, \\dots, q_r\\}$?\n",
    "\n",
    "<b>(Challenge) Problem 4C:</b> Given linearly independent vectors $a_1, \\dots, a_r \\in \\R^m$, what is the transformation projecting $x$ onto $\\span\\{ a_1, \\dots, a_r \\}$?\n",
    "</div>"
   ]
  },
  {
   "cell_type": "markdown",
   "metadata": {
    "slideshow": {
     "slide_type": "slide"
    }
   },
   "source": [
    "### Solution 4:  Orthogonal Projections\n",
    "\n",
    "**Solution 4A**:  $P = qq^T$\n",
    "\n",
    "**Solution 4B**:  $P = q_1 q_1^T + \\cdots + q_r q_r^T = QQ^T$ where $Q$ has columns $q_1, \\dots q_r$\n",
    "\n",
    "**Solution 4C**:  $P = A(A^*A)^{-1} A^*$ where $A$ has columns $a_1, \\dots, a_r$."
   ]
  },
  {
   "cell_type": "markdown",
   "metadata": {
    "slideshow": {
     "slide_type": "slide"
    }
   },
   "source": [
    "### Problem 5:  Complementary Projectors\n",
    "\n",
    "<div style=\"padding:20px;margin:20px;border:1px solid black\">\n",
    "<b>Problem 5:</b>  What does the matrix $P = I - qq^T$ do?  Assume $\\norm{q}_2=1$.\n",
    "</div>\n",
    "\n"
   ]
  },
  {
   "cell_type": "markdown",
   "metadata": {
    "slideshow": {
     "slide_type": "fragment"
    }
   },
   "source": [
    "**Solution 5:** It projects onto the space orthogonal to $q$!"
   ]
  },
  {
   "cell_type": "markdown",
   "metadata": {
    "slideshow": {
     "slide_type": "slide"
    }
   },
   "source": [
    "### Problem 6:  Orthogonal Matrices\n",
    "\n",
    "A matrix $Q \\in \\R^{m \\times m}$ is **orthogonal** (or unitary) if its columns $q_1, \\dots, q_m \\in \\R^m$ are orthonormal.\n",
    "\n",
    "<div style=\"padding:20px; margin:20px; border: 1px solid black\">\n",
    "<b>Problem 6A:</b> Prove that $Q^T = Q^{-1}$.  This is often used as the <em>definition</em> of an orthogonal matrix.\n",
    "\n",
    "<b>Problem 6B:</b> Prove that orthogonal matrices preserve lengths, $\\norm{Qx}_2 = \\norm{x}_2$ for all $x \\in \\R^m$.\n",
    "\n",
    "<b>Problem 6C:</b> Prove that $\\det Q = \\pm 1$.  (<em>Hint:</em> $\\det A^T = \\det A$ for any matrix)\n",
    "</div>"
   ]
  },
  {
   "cell_type": "markdown",
   "metadata": {
    "slideshow": {
     "slide_type": "slide"
    }
   },
   "source": [
    "### Solution 6:  Orthogonal Matrices"
   ]
  },
  {
   "cell_type": "markdown",
   "metadata": {
    "slideshow": {
     "slide_type": "fragment"
    }
   },
   "source": [
    "**Solution 6A:**  Suffices to show $Q^T Q = I$.  The $(i,j)$ entry is $\\inner{q_i, q_j} = \\delta_{ij}$ since the columns are orthonormal!"
   ]
  },
  {
   "cell_type": "markdown",
   "metadata": {
    "slideshow": {
     "slide_type": "fragment"
    }
   },
   "source": [
    "**Problem 6B:** $\\norm{Qx}_2 = \\sqrt{(Qx)^T (Qx)} = \\sqrt{x^T Q^T Q x} = \\sqrt{x^T x} = \\norm{x}_2$"
   ]
  },
  {
   "cell_type": "markdown",
   "metadata": {
    "slideshow": {
     "slide_type": "fragment"
    }
   },
   "source": [
    "**Problem 6C:** Notice $1 = \\det I = \\det(Q^T Q) = \\det(Q^T) \\det(Q) = \\det(Q)^2$, so $|\\det(Q)|=1$.  Since $\\det(Q) \\in \\R$, it is either $+1$ or $-1$."
   ]
  },
  {
   "cell_type": "markdown",
   "metadata": {
    "slideshow": {
     "slide_type": "slide"
    }
   },
   "source": [
    "## Let's make an orthonormal basis!"
   ]
  },
  {
   "cell_type": "code",
   "execution_count": null,
   "metadata": {},
   "outputs": [],
   "source": [
    "n = 3\n",
    "vecs = []\n",
    "for i in range(n):\n",
    "    veci = np.random.randn(n)\n",
    "    # Now what?"
   ]
  },
  {
   "cell_type": "code",
   "execution_count": 21,
   "metadata": {
    "slideshow": {
     "slide_type": "skip"
    }
   },
   "outputs": [
    {
     "data": {
      "text/plain": [
       "array([[ 1.00000000e+00,  6.74259405e-17, -5.42534456e-18],\n",
       "       [ 6.74259405e-17,  1.00000000e+00, -6.16220564e-17],\n",
       "       [-5.42534456e-18, -6.16220564e-17,  1.00000000e+00]])"
      ]
     },
     "execution_count": 21,
     "metadata": {},
     "output_type": "execute_result"
    }
   ],
   "source": [
    "n = 3\n",
    "vecs = []\n",
    "for i in range(n):\n",
    "    veci = np.random.randn(n)\n",
    "    for j in range(i):\n",
    "        vecj = vecs[j]\n",
    "        veci = veci - (veci @ vecj) * vecj\n",
    "    veci = veci/np.sqrt(veci @ veci)\n",
    "    vecs.append(veci)\n",
    "    \n",
    "Q = np.array(vecs)\n",
    "np.round(Q @ Q.T,decimals=5)\n",
    "Q @ Q.T"
   ]
  },
  {
   "cell_type": "code",
   "execution_count": 15,
   "metadata": {},
   "outputs": [],
   "source": [
    "for i in range(-1):\n",
    "    print(i)"
   ]
  },
  {
   "cell_type": "code",
   "execution_count": null,
   "metadata": {},
   "outputs": [],
   "source": []
  }
 ],
 "metadata": {
  "celltoolbar": "Slideshow",
  "kernelspec": {
   "display_name": "Python 2",
   "language": "python",
   "name": "python2"
  },
  "language_info": {
   "codemirror_mode": {
    "name": "ipython",
    "version": 2
   },
   "file_extension": ".py",
   "mimetype": "text/x-python",
   "name": "python",
   "nbconvert_exporter": "python",
   "pygments_lexer": "ipython2",
   "version": "2.7.16"
  },
  "nbpresent": {
   "slides": {
    "00402695-e04c-4eef-89e0-d40218a4b0e7": {
     "id": "00402695-e04c-4eef-89e0-d40218a4b0e7",
     "prev": null,
     "regions": {
      "4448a694-c5c3-40bb-ab2b-ed9b29a5b571": {
       "attrs": {
        "height": 0.8,
        "width": 0.8,
        "x": 0.1,
        "y": 0.1
       },
       "id": "4448a694-c5c3-40bb-ab2b-ed9b29a5b571"
      }
     }
    },
    "0265b550-c6b6-425a-9c52-f618822afef0": {
     "id": "0265b550-c6b6-425a-9c52-f618822afef0",
     "prev": "49ba58b9-fb36-4447-9811-c3ada1b777b6",
     "regions": {
      "b702ead7-d493-4d02-8d0f-23b216601150": {
       "attrs": {
        "height": 0.8,
        "width": 0.8,
        "x": 0.1,
        "y": 0.1
       },
       "content": {
        "cell": "a69ec655-4bfe-4a3f-9d26-9965eceb71df",
        "part": "whole"
       },
       "id": "b702ead7-d493-4d02-8d0f-23b216601150"
      }
     }
    },
    "1b9e5fe3-4efd-46d2-9af0-7648e295e4a2": {
     "id": "1b9e5fe3-4efd-46d2-9af0-7648e295e4a2",
     "prev": "885499a5-0dfb-4789-9555-6a95c5a3376e",
     "regions": {
      "556348bf-3f97-4a5d-952c-5ab545ee4992": {
       "attrs": {
        "height": 0.8,
        "width": 0.8,
        "x": 0.1,
        "y": 0.1
       },
       "content": {
        "cell": "ece64073-7cf1-4495-bfe4-337f1fa42390",
        "part": "whole"
       },
       "id": "556348bf-3f97-4a5d-952c-5ab545ee4992"
      }
     }
    },
    "2039394f-772d-4c00-b81e-83f05bc1dcd1": {
     "id": "2039394f-772d-4c00-b81e-83f05bc1dcd1",
     "prev": "94eabf87-a6d9-4ac8-a24e-dad8e0e4d8d8",
     "regions": {
      "63b012e8-1ac7-4c4e-b281-a80d944c12ae": {
       "attrs": {
        "height": 0.8,
        "width": 0.8,
        "x": 0.1,
        "y": 0.1
       },
       "content": {
        "cell": "29b540e4-7d19-4df6-b685-72c772a842d0",
        "part": "whole"
       },
       "id": "63b012e8-1ac7-4c4e-b281-a80d944c12ae"
      }
     }
    },
    "2db8174a-eab5-4a44-aa68-a816d759bda9": {
     "id": "2db8174a-eab5-4a44-aa68-a816d759bda9",
     "prev": "1b9e5fe3-4efd-46d2-9af0-7648e295e4a2",
     "regions": {
      "7539e7ab-53f5-417b-af25-a99f24b36e72": {
       "attrs": {
        "height": 0.8,
        "width": 0.8,
        "x": 0.1,
        "y": 0.1
       },
       "content": {
        "cell": "526a6929-1493-4efb-9580-8d532f1b1733",
        "part": "whole"
       },
       "id": "7539e7ab-53f5-417b-af25-a99f24b36e72"
      }
     }
    },
    "4329cc6d-7f9f-4b70-a761-2cb9d911ca0f": {
     "id": "4329cc6d-7f9f-4b70-a761-2cb9d911ca0f",
     "prev": "9b2467ee-a4a5-42ab-9028-de6057970611",
     "regions": {
      "4dc09d43-f722-4d98-99a1-5752221a2d67": {
       "attrs": {
        "height": 0.8,
        "width": 0.8,
        "x": 0.1,
        "y": 0.1
       },
       "content": {
        "cell": "ac1f6d59-30ec-4e45-ba35-254bfe82de2a",
        "part": "whole"
       },
       "id": "4dc09d43-f722-4d98-99a1-5752221a2d67"
      }
     }
    },
    "49ba58b9-fb36-4447-9811-c3ada1b777b6": {
     "id": "49ba58b9-fb36-4447-9811-c3ada1b777b6",
     "prev": "00402695-e04c-4eef-89e0-d40218a4b0e7",
     "regions": {
      "9fd470e1-9457-4fad-a69a-135027c528ae": {
       "attrs": {
        "height": 0.8,
        "width": 0.8,
        "x": 0.1,
        "y": 0.1
       },
       "content": {
        "cell": "0d550dc6-b222-4f90-8a5a-8fc373b860e9",
        "part": "whole"
       },
       "id": "9fd470e1-9457-4fad-a69a-135027c528ae"
      }
     }
    },
    "4f2e1449-4308-4724-b6b5-f1ce1967f8bb": {
     "id": "4f2e1449-4308-4724-b6b5-f1ce1967f8bb",
     "prev": "f0551436-2b74-43fd-b272-c48323a83773",
     "regions": {
      "a6956997-1dbe-417c-b982-aa9974af36a2": {
       "attrs": {
        "height": 0.8,
        "width": 0.8,
        "x": 0.1,
        "y": 0.1
       },
       "content": {
        "cell": "4da46af5-389b-422f-8723-2240bcb5e5cc",
        "part": "whole"
       },
       "id": "a6956997-1dbe-417c-b982-aa9974af36a2"
      }
     }
    },
    "6a9b86a5-72d4-4ea9-8160-3d55bae4c738": {
     "id": "6a9b86a5-72d4-4ea9-8160-3d55bae4c738",
     "prev": "4f2e1449-4308-4724-b6b5-f1ce1967f8bb",
     "regions": {
      "7a3484dc-5988-456c-b189-15cb1f18af1f": {
       "attrs": {
        "height": 0.8,
        "width": 0.8,
        "x": 0.1,
        "y": 0.1
       },
       "content": {
        "cell": "951424a9-7339-4487-bff2-66c64595ea34",
        "part": "whole"
       },
       "id": "7a3484dc-5988-456c-b189-15cb1f18af1f"
      }
     }
    },
    "788ca0e1-453f-4688-b082-ffde7b78e68c": {
     "id": "788ca0e1-453f-4688-b082-ffde7b78e68c",
     "prev": "2db8174a-eab5-4a44-aa68-a816d759bda9",
     "regions": {
      "fe4f47cd-4e72-4e30-970a-19547b803205": {
       "attrs": {
        "height": 0.8,
        "width": 0.8,
        "x": 0.1,
        "y": 0.1
       },
       "content": {
        "cell": "d70290b6-b579-4460-9035-1657b31857a4",
        "part": "whole"
       },
       "id": "fe4f47cd-4e72-4e30-970a-19547b803205"
      }
     }
    },
    "7a911c00-893a-4bdd-b842-fce896a21aae": {
     "id": "7a911c00-893a-4bdd-b842-fce896a21aae",
     "prev": "2039394f-772d-4c00-b81e-83f05bc1dcd1",
     "regions": {
      "2de9a398-fea4-4723-a8b6-55c33ce96eb1": {
       "attrs": {
        "height": 0.8,
        "width": 0.8,
        "x": 0.1,
        "y": 0.1
       },
       "content": {
        "cell": "b0a25cbc-b5fe-4080-bd6f-951ddfd7381f",
        "part": "whole"
       },
       "id": "2de9a398-fea4-4723-a8b6-55c33ce96eb1"
      }
     }
    },
    "829ba554-db30-4ece-af12-5488f4729294": {
     "id": "829ba554-db30-4ece-af12-5488f4729294",
     "prev": "7a911c00-893a-4bdd-b842-fce896a21aae",
     "regions": {
      "443f7e08-6b5f-4714-aed2-b8e910728910": {
       "attrs": {
        "height": 0.8,
        "width": 0.8,
        "x": 0.1,
        "y": 0.1
       },
       "content": {
        "cell": "56362fbe-c101-494a-bd32-3e1649e15643",
        "part": "whole"
       },
       "id": "443f7e08-6b5f-4714-aed2-b8e910728910"
      }
     }
    },
    "885499a5-0dfb-4789-9555-6a95c5a3376e": {
     "id": "885499a5-0dfb-4789-9555-6a95c5a3376e",
     "prev": "f3732cc4-6051-4998-a02c-0e5541a15f23",
     "regions": {
      "8b4717b8-bdd2-465b-96ad-407eacdbe34b": {
       "attrs": {
        "height": 0.8,
        "width": 0.8,
        "x": 0.1,
        "y": 0.1
       },
       "content": {
        "cell": "6f147f30-1ba3-4e9f-9653-e13a4257df6c",
        "part": "whole"
       },
       "id": "8b4717b8-bdd2-465b-96ad-407eacdbe34b"
      }
     }
    },
    "94eabf87-a6d9-4ac8-a24e-dad8e0e4d8d8": {
     "id": "94eabf87-a6d9-4ac8-a24e-dad8e0e4d8d8",
     "prev": "4329cc6d-7f9f-4b70-a761-2cb9d911ca0f",
     "regions": {
      "82549bbb-345d-423f-8229-7b5cd0628b14": {
       "attrs": {
        "height": 0.8,
        "width": 0.8,
        "x": 0.1,
        "y": 0.1
       },
       "content": {
        "cell": "8018269b-60c2-4a26-abe2-77c73cace5f6",
        "part": "whole"
       },
       "id": "82549bbb-345d-423f-8229-7b5cd0628b14"
      }
     }
    },
    "9b2467ee-a4a5-42ab-9028-de6057970611": {
     "id": "9b2467ee-a4a5-42ab-9028-de6057970611",
     "prev": "788ca0e1-453f-4688-b082-ffde7b78e68c",
     "regions": {
      "33ad7a50-cf56-40b7-b53b-552605f88fa5": {
       "attrs": {
        "height": 0.8,
        "width": 0.8,
        "x": 0.1,
        "y": 0.1
       },
       "content": {
        "cell": "6c33627a-8a43-4349-bf5e-9097b0e286f7",
        "part": "whole"
       },
       "id": "33ad7a50-cf56-40b7-b53b-552605f88fa5"
      }
     }
    },
    "ba0bf0ed-6cee-4c8c-bc7e-222a0f8e820d": {
     "id": "ba0bf0ed-6cee-4c8c-bc7e-222a0f8e820d",
     "prev": "829ba554-db30-4ece-af12-5488f4729294",
     "regions": {
      "7eb01692-dcb5-4ded-bd25-7e0d90f3fffc": {
       "attrs": {
        "height": 0.8,
        "width": 0.8,
        "x": 0.1,
        "y": 0.1
       },
       "content": {
        "cell": "6c53c225-83fe-4d41-8dca-0d1c9368584c",
        "part": "whole"
       },
       "id": "7eb01692-dcb5-4ded-bd25-7e0d90f3fffc"
      }
     }
    },
    "df3d62d2-e2b9-4ff7-978b-08c51a4f9ee8": {
     "id": "df3d62d2-e2b9-4ff7-978b-08c51a4f9ee8",
     "prev": "ba0bf0ed-6cee-4c8c-bc7e-222a0f8e820d",
     "regions": {
      "75cf714e-431e-4287-914d-b79312bcbfce": {
       "attrs": {
        "height": 0.8,
        "width": 0.8,
        "x": 0.1,
        "y": 0.1
       },
       "content": {
        "cell": "561a5ffb-7003-4ec0-a6bc-c3fd39204a40",
        "part": "whole"
       },
       "id": "75cf714e-431e-4287-914d-b79312bcbfce"
      }
     }
    },
    "f0551436-2b74-43fd-b272-c48323a83773": {
     "id": "f0551436-2b74-43fd-b272-c48323a83773",
     "prev": "0265b550-c6b6-425a-9c52-f618822afef0",
     "regions": {
      "9d1114ff-54fc-40c5-a3f1-4d094ab427d6": {
       "attrs": {
        "height": 0.8,
        "width": 0.8,
        "x": 0.1,
        "y": 0.1
       },
       "content": {
        "cell": "f14dd754-9e43-4014-8a09-be62ba0c3aed",
        "part": "whole"
       },
       "id": "9d1114ff-54fc-40c5-a3f1-4d094ab427d6"
      }
     }
    },
    "f3732cc4-6051-4998-a02c-0e5541a15f23": {
     "id": "f3732cc4-6051-4998-a02c-0e5541a15f23",
     "prev": "6a9b86a5-72d4-4ea9-8160-3d55bae4c738",
     "regions": {
      "dce19474-7bba-475a-a368-63f262661282": {
       "attrs": {
        "height": 0.8,
        "width": 0.8,
        "x": 0.1,
        "y": 0.1
       },
       "content": {
        "cell": "2b797236-c6a7-4860-b27b-ca4d8f381607",
        "part": "whole"
       },
       "id": "dce19474-7bba-475a-a368-63f262661282"
      }
     }
    }
   },
   "themes": {
    "default": "474559d9-b375-479a-ac75-71c3289ec9ff",
    "theme": {
     "474559d9-b375-479a-ac75-71c3289ec9ff": {
      "id": "474559d9-b375-479a-ac75-71c3289ec9ff",
      "palette": {
       "19cc588f-0593-49c9-9f4b-e4d7cc113b1c": {
        "id": "19cc588f-0593-49c9-9f4b-e4d7cc113b1c",
        "rgb": [
         252,
         252,
         252
        ]
       },
       "31af15d2-7e15-44c5-ab5e-e04b16a89eff": {
        "id": "31af15d2-7e15-44c5-ab5e-e04b16a89eff",
        "rgb": [
         68,
         68,
         68
        ]
       },
       "50f92c45-a630-455b-aec3-788680ec7410": {
        "id": "50f92c45-a630-455b-aec3-788680ec7410",
        "rgb": [
         155,
         177,
         192
        ]
       },
       "c5cc3653-2ee1-402a-aba2-7caae1da4f6c": {
        "id": "c5cc3653-2ee1-402a-aba2-7caae1da4f6c",
        "rgb": [
         43,
         126,
         184
        ]
       },
       "efa7f048-9acb-414c-8b04-a26811511a21": {
        "id": "efa7f048-9acb-414c-8b04-a26811511a21",
        "rgb": [
         25.118061674008803,
         73.60176211453744,
         107.4819383259912
        ]
       }
      },
      "rules": {
       "blockquote": {
        "color": "50f92c45-a630-455b-aec3-788680ec7410"
       },
       "code": {
        "font-family": "Anonymous Pro"
       },
       "h1": {
        "color": "c5cc3653-2ee1-402a-aba2-7caae1da4f6c",
        "font-family": "Lato",
        "font-size": 8
       },
       "h2": {
        "color": "c5cc3653-2ee1-402a-aba2-7caae1da4f6c",
        "font-family": "Lato",
        "font-size": 6
       },
       "h3": {
        "color": "50f92c45-a630-455b-aec3-788680ec7410",
        "font-family": "Lato",
        "font-size": 5.5
       },
       "h4": {
        "color": "c5cc3653-2ee1-402a-aba2-7caae1da4f6c",
        "font-family": "Lato",
        "font-size": 5
       },
       "h5": {
        "font-family": "Lato"
       },
       "h6": {
        "font-family": "Lato"
       },
       "h7": {
        "font-family": "Lato"
       },
       "pre": {
        "font-family": "Anonymous Pro",
        "font-size": 4
       }
      },
      "text-base": {
       "font-family": "Merriweather",
       "font-size": 4
      }
     }
    }
   }
  }
 },
 "nbformat": 4,
 "nbformat_minor": 2
}
